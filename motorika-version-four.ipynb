{
 "cells": [
  {
   "cell_type": "code",
   "execution_count": 1,
   "id": "01796041",
   "metadata": {
    "execution": {
     "iopub.execute_input": "2024-07-24T22:16:53.581534Z",
     "iopub.status.busy": "2024-07-24T22:16:53.581093Z",
     "iopub.status.idle": "2024-07-24T22:16:56.682694Z",
     "shell.execute_reply": "2024-07-24T22:16:56.681505Z"
    },
    "papermill": {
     "duration": 3.118373,
     "end_time": "2024-07-24T22:16:56.685522",
     "exception": false,
     "start_time": "2024-07-24T22:16:53.567149",
     "status": "completed"
    },
    "tags": []
   },
   "outputs": [],
   "source": [
    "#standard libraries\n",
    "import numpy as np\n",
    "import pandas as pd\n",
    "\n",
    "#visualization libraries\n",
    "import seaborn as sns\n",
    "import matplotlib as plt\n",
    "\n",
    "#model learning libraries\n",
    "from sklearn import ensemble\n",
    "from sklearn import metrics\n",
    "from sklearn import preprocessing\n",
    "from sklearn import model_selection\n",
    "\n",
    "#hyperparameters\n",
    "from sklearn.model_selection import cross_val_score\n",
    "import optuna\n",
    "from optuna import Trial, study, samplers"
   ]
  },
  {
   "cell_type": "code",
   "execution_count": 2,
   "id": "e0fdb6a9",
   "metadata": {
    "execution": {
     "iopub.execute_input": "2024-07-24T22:16:56.711827Z",
     "iopub.status.busy": "2024-07-24T22:16:56.711213Z",
     "iopub.status.idle": "2024-07-24T22:16:56.720280Z",
     "shell.execute_reply": "2024-07-24T22:16:56.718675Z"
    },
    "papermill": {
     "duration": 0.025249,
     "end_time": "2024-07-24T22:16:56.723191",
     "exception": false,
     "start_time": "2024-07-24T22:16:56.697942",
     "status": "completed"
    },
    "tags": []
   },
   "outputs": [
    {
     "name": "stdout",
     "output_type": "stream",
     "text": [
      "/kaggle/input/motorica-skillfactory-internship-test-2024-07/sample_submission.csv\n",
      "/kaggle/input/motorica-skillfactory-internship-test-2024-07/y_train.csv\n",
      "/kaggle/input/motorica-skillfactory-internship-test-2024-07/X_test.npy\n",
      "/kaggle/input/motorica-skillfactory-internship-test-2024-07/X_train.npy\n"
     ]
    }
   ],
   "source": [
    "import os\n",
    "for dirname, _, filenames in os.walk('/kaggle/input'):\n",
    "    for filename in filenames:\n",
    "        print(os.path.join(dirname, filename))"
   ]
  },
  {
   "cell_type": "markdown",
   "id": "dc22af17",
   "metadata": {
    "papermill": {
     "duration": 0.011565,
     "end_time": "2024-07-24T22:16:56.747122",
     "exception": false,
     "start_time": "2024-07-24T22:16:56.735557",
     "status": "completed"
    },
    "tags": []
   },
   "source": [
    "#### Data Familiarization"
   ]
  },
  {
   "cell_type": "code",
   "execution_count": 3,
   "id": "ca828f1a",
   "metadata": {
    "execution": {
     "iopub.execute_input": "2024-07-24T22:16:56.776620Z",
     "iopub.status.busy": "2024-07-24T22:16:56.775414Z",
     "iopub.status.idle": "2024-07-24T22:16:56.892689Z",
     "shell.execute_reply": "2024-07-24T22:16:56.891626Z"
    },
    "papermill": {
     "duration": 0.13628,
     "end_time": "2024-07-24T22:16:56.895334",
     "exception": false,
     "start_time": "2024-07-24T22:16:56.759054",
     "status": "completed"
    },
    "tags": []
   },
   "outputs": [],
   "source": [
    "#load the data set\n",
    "X_train_narray = np.load('/kaggle/input/motorica-skillfactory-internship-test-2024-07/X_train.npy')\n",
    "X_test_narray = np.load('/kaggle/input/motorica-skillfactory-internship-test-2024-07/X_test.npy')\n",
    "sample_submission = pd.read_csv('/kaggle/input/motorica-skillfactory-internship-test-2024-07/sample_submission.csv')"
   ]
  },
  {
   "cell_type": "code",
   "execution_count": 4,
   "id": "b9def516",
   "metadata": {
    "execution": {
     "iopub.execute_input": "2024-07-24T22:16:56.922132Z",
     "iopub.status.busy": "2024-07-24T22:16:56.920647Z",
     "iopub.status.idle": "2024-07-24T22:16:56.927042Z",
     "shell.execute_reply": "2024-07-24T22:16:56.925961Z"
    },
    "papermill": {
     "duration": 0.022219,
     "end_time": "2024-07-24T22:16:56.929662",
     "exception": false,
     "start_time": "2024-07-24T22:16:56.907443",
     "status": "completed"
    },
    "tags": []
   },
   "outputs": [
    {
     "name": "stdout",
     "output_type": "stream",
     "text": [
      "(323, 40, 100), (54, 40, 100)\n"
     ]
    }
   ],
   "source": [
    "#display the dimensions\n",
    "print(X_train_narray.shape, X_test_narray.shape, sep=', ')"
   ]
  },
  {
   "cell_type": "markdown",
   "id": "1a4548ae",
   "metadata": {
    "papermill": {
     "duration": 0.012167,
     "end_time": "2024-07-24T22:16:56.954132",
     "exception": false,
     "start_time": "2024-07-24T22:16:56.941965",
     "status": "completed"
    },
    "tags": []
   },
   "source": [
    "#### Representation of the Target Variable"
   ]
  },
  {
   "cell_type": "code",
   "execution_count": 5,
   "id": "b43fbe4a",
   "metadata": {
    "execution": {
     "iopub.execute_input": "2024-07-24T22:16:56.981112Z",
     "iopub.status.busy": "2024-07-24T22:16:56.980720Z",
     "iopub.status.idle": "2024-07-24T22:16:57.013270Z",
     "shell.execute_reply": "2024-07-24T22:16:57.012169Z"
    },
    "papermill": {
     "duration": 0.048828,
     "end_time": "2024-07-24T22:16:57.016093",
     "exception": false,
     "start_time": "2024-07-24T22:16:56.967265",
     "status": "completed"
    },
    "tags": []
   },
   "outputs": [],
   "source": [
    "#load the predictive set\n",
    "y_train = pd.read_csv('/kaggle/input/motorica-skillfactory-internship-test-2024-07/y_train.csv')"
   ]
  },
  {
   "cell_type": "code",
   "execution_count": 6,
   "id": "c3eec556",
   "metadata": {
    "execution": {
     "iopub.execute_input": "2024-07-24T22:16:57.042779Z",
     "iopub.status.busy": "2024-07-24T22:16:57.042334Z",
     "iopub.status.idle": "2024-07-24T22:16:57.050500Z",
     "shell.execute_reply": "2024-07-24T22:16:57.049356Z"
    },
    "papermill": {
     "duration": 0.024545,
     "end_time": "2024-07-24T22:16:57.053062",
     "exception": false,
     "start_time": "2024-07-24T22:16:57.028517",
     "status": "completed"
    },
    "tags": []
   },
   "outputs": [
    {
     "data": {
      "text/plain": [
       "(32300, 2)"
      ]
     },
     "execution_count": 6,
     "metadata": {},
     "output_type": "execute_result"
    }
   ],
   "source": [
    "#display the predictive dimensions\n",
    "y_train.shape"
   ]
  },
  {
   "cell_type": "code",
   "execution_count": 7,
   "id": "2abae5fb",
   "metadata": {
    "execution": {
     "iopub.execute_input": "2024-07-24T22:16:57.080230Z",
     "iopub.status.busy": "2024-07-24T22:16:57.079283Z",
     "iopub.status.idle": "2024-07-24T22:16:57.098911Z",
     "shell.execute_reply": "2024-07-24T22:16:57.097789Z"
    },
    "papermill": {
     "duration": 0.036071,
     "end_time": "2024-07-24T22:16:57.101706",
     "exception": false,
     "start_time": "2024-07-24T22:16:57.065635",
     "status": "completed"
    },
    "tags": []
   },
   "outputs": [
    {
     "data": {
      "text/html": [
       "<div>\n",
       "<style scoped>\n",
       "    .dataframe tbody tr th:only-of-type {\n",
       "        vertical-align: middle;\n",
       "    }\n",
       "\n",
       "    .dataframe tbody tr th {\n",
       "        vertical-align: top;\n",
       "    }\n",
       "\n",
       "    .dataframe thead th {\n",
       "        text-align: right;\n",
       "    }\n",
       "</style>\n",
       "<table border=\"1\" class=\"dataframe\">\n",
       "  <thead>\n",
       "    <tr style=\"text-align: right;\">\n",
       "      <th></th>\n",
       "      <th>sample-timestep</th>\n",
       "      <th>class</th>\n",
       "    </tr>\n",
       "  </thead>\n",
       "  <tbody>\n",
       "    <tr>\n",
       "      <th>0</th>\n",
       "      <td>0-0</td>\n",
       "      <td>0</td>\n",
       "    </tr>\n",
       "    <tr>\n",
       "      <th>1</th>\n",
       "      <td>0-1</td>\n",
       "      <td>0</td>\n",
       "    </tr>\n",
       "    <tr>\n",
       "      <th>2</th>\n",
       "      <td>0-2</td>\n",
       "      <td>0</td>\n",
       "    </tr>\n",
       "    <tr>\n",
       "      <th>3</th>\n",
       "      <td>0-3</td>\n",
       "      <td>0</td>\n",
       "    </tr>\n",
       "    <tr>\n",
       "      <th>4</th>\n",
       "      <td>0-4</td>\n",
       "      <td>0</td>\n",
       "    </tr>\n",
       "  </tbody>\n",
       "</table>\n",
       "</div>"
      ],
      "text/plain": [
       "  sample-timestep  class\n",
       "0             0-0      0\n",
       "1             0-1      0\n",
       "2             0-2      0\n",
       "3             0-3      0\n",
       "4             0-4      0"
      ]
     },
     "execution_count": 7,
     "metadata": {},
     "output_type": "execute_result"
    }
   ],
   "source": [
    "#display the predictive train set\n",
    "y_train.head()"
   ]
  },
  {
   "cell_type": "code",
   "execution_count": 8,
   "id": "da0ba1b3",
   "metadata": {
    "execution": {
     "iopub.execute_input": "2024-07-24T22:16:57.130861Z",
     "iopub.status.busy": "2024-07-24T22:16:57.129452Z",
     "iopub.status.idle": "2024-07-24T22:16:57.148823Z",
     "shell.execute_reply": "2024-07-24T22:16:57.147667Z"
    },
    "papermill": {
     "duration": 0.036674,
     "end_time": "2024-07-24T22:16:57.151418",
     "exception": false,
     "start_time": "2024-07-24T22:16:57.114744",
     "status": "completed"
    },
    "tags": []
   },
   "outputs": [
    {
     "data": {
      "text/plain": [
       "Series([], dtype: int64)"
      ]
     },
     "execution_count": 8,
     "metadata": {},
     "output_type": "execute_result"
    }
   ],
   "source": [
    "#check that there are no null values in the data set\n",
    "y_train.isnull().sum()[y_train.isnull().sum() > 0]"
   ]
  },
  {
   "cell_type": "markdown",
   "id": "0a00d250",
   "metadata": {
    "papermill": {
     "duration": 0.012476,
     "end_time": "2024-07-24T22:16:57.177049",
     "exception": false,
     "start_time": "2024-07-24T22:16:57.164573",
     "status": "completed"
    },
    "tags": []
   },
   "source": [
    "`y_train.csv` содержит следующие классы: \n",
    "\n",
    "  - `0` - команда \"Open\";\n",
    "  - `1` - команда \"сгиб мизинца\";\n",
    "  - `2` - команда \"сгиб безымянного пальца\";\n",
    "  - `3` - команда \"сгиб среднего пальца\";\n",
    "  - `4` - команда \"жест пистолет\";\n",
    "  - `5` - команда \"сгиб указательного пальца\";\n",
    "  - `6` - команда \"сгиб большога пальца\";\n",
    "  - `7` - команда \"жест ОК\";\n",
    "  - `8` - команда \"жест grab\""
   ]
  },
  {
   "cell_type": "code",
   "execution_count": 9,
   "id": "67b9af51",
   "metadata": {
    "execution": {
     "iopub.execute_input": "2024-07-24T22:16:57.204510Z",
     "iopub.status.busy": "2024-07-24T22:16:57.204103Z",
     "iopub.status.idle": "2024-07-24T22:16:57.540825Z",
     "shell.execute_reply": "2024-07-24T22:16:57.539472Z"
    },
    "papermill": {
     "duration": 0.353205,
     "end_time": "2024-07-24T22:16:57.543183",
     "exception": false,
     "start_time": "2024-07-24T22:16:57.189978",
     "status": "completed"
    },
    "tags": []
   },
   "outputs": [
    {
     "data": {
      "image/png": "[encoded data removed]",
      "text/plain": [
       "<Figure size 640x480 with 1 Axes>"
      ]
     },
     "metadata": {},
     "output_type": "display_data"
    }
   ],
   "source": [
    "#class types\n",
    "round(y_train['class'].value_counts(normalize=True) * 100, 2).sort_values()\n",
    "\n",
    "y_train['class'].value_counts().plot(kind='bar');"
   ]
  },
  {
   "cell_type": "markdown",
   "id": "898372f7",
   "metadata": {
    "papermill": {
     "duration": 0.012705,
     "end_time": "2024-07-24T22:16:57.569090",
     "exception": false,
     "start_time": "2024-07-24T22:16:57.556385",
     "status": "completed"
    },
    "tags": []
   },
   "source": [
    "#### Convert an Array into a DataFrame"
   ]
  },
  {
   "cell_type": "code",
   "execution_count": 10,
   "id": "b66519ff",
   "metadata": {
    "execution": {
     "iopub.execute_input": "2024-07-24T22:16:57.598719Z",
     "iopub.status.busy": "2024-07-24T22:16:57.598264Z",
     "iopub.status.idle": "2024-07-24T22:16:58.578210Z",
     "shell.execute_reply": "2024-07-24T22:16:58.576931Z"
    },
    "papermill": {
     "duration": 0.998643,
     "end_time": "2024-07-24T22:16:58.581025",
     "exception": false,
     "start_time": "2024-07-24T22:16:57.582382",
     "status": "completed"
    },
    "tags": []
   },
   "outputs": [
    {
     "name": "stderr",
     "output_type": "stream",
     "text": [
      "/tmp/ipykernel_18/641351009.py:4: FutureWarning: The behavior of DataFrame concatenation with empty or all-NA entries is deprecated. In a future version, this will no longer exclude empty or all-NA columns when determining the result dtypes. To retain the old behavior, exclude the relevant entries before the concat operation.\n",
      "  X_train = pd.concat([X_train, pd.DataFrame(X_train_narray[i].T,\n",
      "/tmp/ipykernel_18/641351009.py:11: FutureWarning: The behavior of DataFrame concatenation with empty or all-NA entries is deprecated. In a future version, this will no longer exclude empty or all-NA columns when determining the result dtypes. To retain the old behavior, exclude the relevant entries before the concat operation.\n",
      "  X_test = pd.concat([X_test, pd.DataFrame(X_test_narray[i].T,\n"
     ]
    }
   ],
   "source": [
    "#train set\n",
    "X_train = pd.DataFrame(columns=[f'{i}'for i in range(X_train_narray.shape[1])])\n",
    "for i in range(len(X_train_narray)):\n",
    "    X_train = pd.concat([X_train, pd.DataFrame(X_train_narray[i].T,\n",
    "                                               columns=[f'{i}'for i in range(X_train_narray.shape[1])])],\n",
    "                        ignore_index=True)\n",
    "\n",
    "#test set\n",
    "X_test = pd.DataFrame(columns=[f'{i}'for i in range(X_test_narray.shape[1])])\n",
    "for i in range(len(X_test_narray)):\n",
    "    X_test = pd.concat([X_test, pd.DataFrame(X_test_narray[i].T,\n",
    "                                             columns=[f'{i}'for i in range(X_test_narray.shape[1])])],\n",
    "                       ignore_index=True)"
   ]
  },
  {
   "cell_type": "code",
   "execution_count": 11,
   "id": "1db45630",
   "metadata": {
    "execution": {
     "iopub.execute_input": "2024-07-24T22:16:58.611997Z",
     "iopub.status.busy": "2024-07-24T22:16:58.611525Z",
     "iopub.status.idle": "2024-07-24T22:16:58.619192Z",
     "shell.execute_reply": "2024-07-24T22:16:58.618110Z"
    },
    "papermill": {
     "duration": 0.026079,
     "end_time": "2024-07-24T22:16:58.621664",
     "exception": false,
     "start_time": "2024-07-24T22:16:58.595585",
     "status": "completed"
    },
    "tags": []
   },
   "outputs": [
    {
     "data": {
      "text/plain": [
       "((32300, 40), (5400, 40))"
      ]
     },
     "execution_count": 11,
     "metadata": {},
     "output_type": "execute_result"
    }
   ],
   "source": [
    "#display the new dimensions\n",
    "X_train.shape, X_test.shape"
   ]
  },
  {
   "cell_type": "code",
   "execution_count": 12,
   "id": "fdea83c1",
   "metadata": {
    "execution": {
     "iopub.execute_input": "2024-07-24T22:16:58.652279Z",
     "iopub.status.busy": "2024-07-24T22:16:58.651872Z",
     "iopub.status.idle": "2024-07-24T22:16:58.658244Z",
     "shell.execute_reply": "2024-07-24T22:16:58.657039Z"
    },
    "papermill": {
     "duration": 0.025705,
     "end_time": "2024-07-24T22:16:58.661780",
     "exception": false,
     "start_time": "2024-07-24T22:16:58.636075",
     "status": "completed"
    },
    "tags": []
   },
   "outputs": [
    {
     "name": "stdout",
     "output_type": "stream",
     "text": [
      "the split: train - 86.0%, test - 14.0%\n"
     ]
    }
   ],
   "source": [
    "print(f'the split: train - {round(X_train.shape[0] / (X_train.shape[0] + X_test.shape[0]) * 100, 0)}%, test - {round(X_test.shape[0] / (X_train.shape[0] + X_test.shape[0]) * 100, 0)}%')"
   ]
  },
  {
   "cell_type": "code",
   "execution_count": 13,
   "id": "e151e40e",
   "metadata": {
    "execution": {
     "iopub.execute_input": "2024-07-24T22:16:58.692680Z",
     "iopub.status.busy": "2024-07-24T22:16:58.691820Z",
     "iopub.status.idle": "2024-07-24T22:16:58.728245Z",
     "shell.execute_reply": "2024-07-24T22:16:58.726936Z"
    },
    "papermill": {
     "duration": 0.054599,
     "end_time": "2024-07-24T22:16:58.730914",
     "exception": false,
     "start_time": "2024-07-24T22:16:58.676315",
     "status": "completed"
    },
    "tags": []
   },
   "outputs": [
    {
     "data": {
      "text/html": [
       "<div>\n",
       "<style scoped>\n",
       "    .dataframe tbody tr th:only-of-type {\n",
       "        vertical-align: middle;\n",
       "    }\n",
       "\n",
       "    .dataframe tbody tr th {\n",
       "        vertical-align: top;\n",
       "    }\n",
       "\n",
       "    .dataframe thead th {\n",
       "        text-align: right;\n",
       "    }\n",
       "</style>\n",
       "<table border=\"1\" class=\"dataframe\">\n",
       "  <thead>\n",
       "    <tr style=\"text-align: right;\">\n",
       "      <th></th>\n",
       "      <th>0</th>\n",
       "      <th>1</th>\n",
       "      <th>2</th>\n",
       "      <th>3</th>\n",
       "      <th>4</th>\n",
       "      <th>5</th>\n",
       "      <th>6</th>\n",
       "      <th>7</th>\n",
       "      <th>8</th>\n",
       "      <th>9</th>\n",
       "      <th>...</th>\n",
       "      <th>30</th>\n",
       "      <th>31</th>\n",
       "      <th>32</th>\n",
       "      <th>33</th>\n",
       "      <th>34</th>\n",
       "      <th>35</th>\n",
       "      <th>36</th>\n",
       "      <th>37</th>\n",
       "      <th>38</th>\n",
       "      <th>39</th>\n",
       "    </tr>\n",
       "  </thead>\n",
       "  <tbody>\n",
       "    <tr>\n",
       "      <th>0</th>\n",
       "      <td>1123.0</td>\n",
       "      <td>10.0</td>\n",
       "      <td>1450.0</td>\n",
       "      <td>64.0</td>\n",
       "      <td>34.0</td>\n",
       "      <td>1743.0</td>\n",
       "      <td>145.0</td>\n",
       "      <td>12.0</td>\n",
       "      <td>1068.0</td>\n",
       "      <td>14.0</td>\n",
       "      <td>...</td>\n",
       "      <td>1877.0</td>\n",
       "      <td>73.0</td>\n",
       "      <td>13.0</td>\n",
       "      <td>1169.0</td>\n",
       "      <td>129.0</td>\n",
       "      <td>29.0</td>\n",
       "      <td>1677.0</td>\n",
       "      <td>36.0</td>\n",
       "      <td>718.0</td>\n",
       "      <td>26.0</td>\n",
       "    </tr>\n",
       "    <tr>\n",
       "      <th>1</th>\n",
       "      <td>1125.0</td>\n",
       "      <td>7.0</td>\n",
       "      <td>1441.0</td>\n",
       "      <td>66.0</td>\n",
       "      <td>33.0</td>\n",
       "      <td>1738.0</td>\n",
       "      <td>143.0</td>\n",
       "      <td>17.0</td>\n",
       "      <td>1064.0</td>\n",
       "      <td>0.0</td>\n",
       "      <td>...</td>\n",
       "      <td>1876.0</td>\n",
       "      <td>70.0</td>\n",
       "      <td>20.0</td>\n",
       "      <td>1170.0</td>\n",
       "      <td>132.0</td>\n",
       "      <td>28.0</td>\n",
       "      <td>1673.0</td>\n",
       "      <td>28.0</td>\n",
       "      <td>730.0</td>\n",
       "      <td>25.0</td>\n",
       "    </tr>\n",
       "    <tr>\n",
       "      <th>2</th>\n",
       "      <td>1121.0</td>\n",
       "      <td>17.0</td>\n",
       "      <td>1444.0</td>\n",
       "      <td>60.0</td>\n",
       "      <td>32.0</td>\n",
       "      <td>1732.0</td>\n",
       "      <td>141.0</td>\n",
       "      <td>10.0</td>\n",
       "      <td>1065.0</td>\n",
       "      <td>14.0</td>\n",
       "      <td>...</td>\n",
       "      <td>1878.0</td>\n",
       "      <td>77.0</td>\n",
       "      <td>14.0</td>\n",
       "      <td>1169.0</td>\n",
       "      <td>130.0</td>\n",
       "      <td>30.0</td>\n",
       "      <td>1670.0</td>\n",
       "      <td>29.0</td>\n",
       "      <td>727.0</td>\n",
       "      <td>27.0</td>\n",
       "    </tr>\n",
       "    <tr>\n",
       "      <th>3</th>\n",
       "      <td>1120.0</td>\n",
       "      <td>10.0</td>\n",
       "      <td>1440.0</td>\n",
       "      <td>59.0</td>\n",
       "      <td>32.0</td>\n",
       "      <td>1730.0</td>\n",
       "      <td>143.0</td>\n",
       "      <td>6.0</td>\n",
       "      <td>1066.0</td>\n",
       "      <td>13.0</td>\n",
       "      <td>...</td>\n",
       "      <td>1876.0</td>\n",
       "      <td>68.0</td>\n",
       "      <td>13.0</td>\n",
       "      <td>1165.0</td>\n",
       "      <td>131.0</td>\n",
       "      <td>29.0</td>\n",
       "      <td>1667.0</td>\n",
       "      <td>24.0</td>\n",
       "      <td>726.0</td>\n",
       "      <td>34.0</td>\n",
       "    </tr>\n",
       "    <tr>\n",
       "      <th>4</th>\n",
       "      <td>1115.0</td>\n",
       "      <td>16.0</td>\n",
       "      <td>1437.0</td>\n",
       "      <td>51.0</td>\n",
       "      <td>30.0</td>\n",
       "      <td>1724.0</td>\n",
       "      <td>138.0</td>\n",
       "      <td>4.0</td>\n",
       "      <td>1062.0</td>\n",
       "      <td>12.0</td>\n",
       "      <td>...</td>\n",
       "      <td>1872.0</td>\n",
       "      <td>73.0</td>\n",
       "      <td>9.0</td>\n",
       "      <td>1165.0</td>\n",
       "      <td>133.0</td>\n",
       "      <td>29.0</td>\n",
       "      <td>1667.0</td>\n",
       "      <td>32.0</td>\n",
       "      <td>724.0</td>\n",
       "      <td>24.0</td>\n",
       "    </tr>\n",
       "  </tbody>\n",
       "</table>\n",
       "<p>5 rows × 40 columns</p>\n",
       "</div>"
      ],
      "text/plain": [
       "        0     1       2     3     4       5      6     7       8     9  ...  \\\n",
       "0  1123.0  10.0  1450.0  64.0  34.0  1743.0  145.0  12.0  1068.0  14.0  ...   \n",
       "1  1125.0   7.0  1441.0  66.0  33.0  1738.0  143.0  17.0  1064.0   0.0  ...   \n",
       "2  1121.0  17.0  1444.0  60.0  32.0  1732.0  141.0  10.0  1065.0  14.0  ...   \n",
       "3  1120.0  10.0  1440.0  59.0  32.0  1730.0  143.0   6.0  1066.0  13.0  ...   \n",
       "4  1115.0  16.0  1437.0  51.0  30.0  1724.0  138.0   4.0  1062.0  12.0  ...   \n",
       "\n",
       "       30    31    32      33     34    35      36    37     38    39  \n",
       "0  1877.0  73.0  13.0  1169.0  129.0  29.0  1677.0  36.0  718.0  26.0  \n",
       "1  1876.0  70.0  20.0  1170.0  132.0  28.0  1673.0  28.0  730.0  25.0  \n",
       "2  1878.0  77.0  14.0  1169.0  130.0  30.0  1670.0  29.0  727.0  27.0  \n",
       "3  1876.0  68.0  13.0  1165.0  131.0  29.0  1667.0  24.0  726.0  34.0  \n",
       "4  1872.0  73.0   9.0  1165.0  133.0  29.0  1667.0  32.0  724.0  24.0  \n",
       "\n",
       "[5 rows x 40 columns]"
      ]
     },
     "execution_count": 13,
     "metadata": {},
     "output_type": "execute_result"
    }
   ],
   "source": [
    "#display the train data set\n",
    "X_train.head()"
   ]
  },
  {
   "cell_type": "markdown",
   "id": "226710f7",
   "metadata": {
    "papermill": {
     "duration": 0.01407,
     "end_time": "2024-07-24T22:16:58.759484",
     "exception": false,
     "start_time": "2024-07-24T22:16:58.745414",
     "status": "completed"
    },
    "tags": []
   },
   "source": [
    "#### Visualization"
   ]
  },
  {
   "cell_type": "code",
   "execution_count": 14,
   "id": "0508b86e",
   "metadata": {
    "execution": {
     "iopub.execute_input": "2024-07-24T22:16:58.790352Z",
     "iopub.status.busy": "2024-07-24T22:16:58.789940Z",
     "iopub.status.idle": "2024-07-24T22:17:06.873094Z",
     "shell.execute_reply": "2024-07-24T22:17:06.871796Z"
    },
    "papermill": {
     "duration": 8.102628,
     "end_time": "2024-07-24T22:17:06.876809",
     "exception": false,
     "start_time": "2024-07-24T22:16:58.774181",
     "status": "completed"
    },
    "tags": []
   },
   "outputs": [
    {
     "data": {
      "image/png": "[encoded data removed]",
      "text/plain": [
       "<Figure size 2000x1850 with 42 Axes>"
      ]
     },
     "metadata": {},
     "output_type": "display_data"
    }
   ],
   "source": [
    "#create a histogram to show the distribution of numerical features\n",
    "X_train.hist(figsize=(20, 18.5));"
   ]
  },
  {
   "cell_type": "code",
   "execution_count": 15,
   "id": "d0b9fd3f",
   "metadata": {
    "execution": {
     "iopub.execute_input": "2024-07-24T22:17:06.915254Z",
     "iopub.status.busy": "2024-07-24T22:17:06.914863Z",
     "iopub.status.idle": "2024-07-24T22:17:07.068081Z",
     "shell.execute_reply": "2024-07-24T22:17:07.066918Z"
    },
    "papermill": {
     "duration": 0.175015,
     "end_time": "2024-07-24T22:17:07.070711",
     "exception": false,
     "start_time": "2024-07-24T22:17:06.895696",
     "status": "completed"
    },
    "tags": []
   },
   "outputs": [
    {
     "data": {
      "text/html": [
       "<div>\n",
       "<style scoped>\n",
       "    .dataframe tbody tr th:only-of-type {\n",
       "        vertical-align: middle;\n",
       "    }\n",
       "\n",
       "    .dataframe tbody tr th {\n",
       "        vertical-align: top;\n",
       "    }\n",
       "\n",
       "    .dataframe thead th {\n",
       "        text-align: right;\n",
       "    }\n",
       "</style>\n",
       "<table border=\"1\" class=\"dataframe\">\n",
       "  <thead>\n",
       "    <tr style=\"text-align: right;\">\n",
       "      <th></th>\n",
       "      <th>0</th>\n",
       "      <th>1</th>\n",
       "      <th>2</th>\n",
       "      <th>3</th>\n",
       "      <th>4</th>\n",
       "      <th>5</th>\n",
       "      <th>6</th>\n",
       "      <th>7</th>\n",
       "      <th>8</th>\n",
       "      <th>9</th>\n",
       "      <th>...</th>\n",
       "      <th>30</th>\n",
       "      <th>31</th>\n",
       "      <th>32</th>\n",
       "      <th>33</th>\n",
       "      <th>34</th>\n",
       "      <th>35</th>\n",
       "      <th>36</th>\n",
       "      <th>37</th>\n",
       "      <th>38</th>\n",
       "      <th>39</th>\n",
       "    </tr>\n",
       "  </thead>\n",
       "  <tbody>\n",
       "    <tr>\n",
       "      <th>count</th>\n",
       "      <td>32300.000000</td>\n",
       "      <td>32300.000000</td>\n",
       "      <td>32300.000000</td>\n",
       "      <td>32300.000000</td>\n",
       "      <td>32300.000000</td>\n",
       "      <td>32300.000000</td>\n",
       "      <td>32300.000000</td>\n",
       "      <td>32300.000000</td>\n",
       "      <td>32300.000000</td>\n",
       "      <td>32300.000000</td>\n",
       "      <td>...</td>\n",
       "      <td>32300.000000</td>\n",
       "      <td>32300.000000</td>\n",
       "      <td>32300.000000</td>\n",
       "      <td>32300.000000</td>\n",
       "      <td>32300.000000</td>\n",
       "      <td>32300.000000</td>\n",
       "      <td>32300.000000</td>\n",
       "      <td>32300.000000</td>\n",
       "      <td>32300.000000</td>\n",
       "      <td>32300.000000</td>\n",
       "    </tr>\n",
       "    <tr>\n",
       "      <th>mean</th>\n",
       "      <td>1080.010031</td>\n",
       "      <td>10.248885</td>\n",
       "      <td>1282.964737</td>\n",
       "      <td>28.563994</td>\n",
       "      <td>23.041269</td>\n",
       "      <td>1572.169876</td>\n",
       "      <td>66.113344</td>\n",
       "      <td>6.691146</td>\n",
       "      <td>976.046873</td>\n",
       "      <td>11.724768</td>\n",
       "      <td>...</td>\n",
       "      <td>1449.424180</td>\n",
       "      <td>69.892291</td>\n",
       "      <td>14.287523</td>\n",
       "      <td>1151.938607</td>\n",
       "      <td>116.753746</td>\n",
       "      <td>24.823746</td>\n",
       "      <td>1741.236378</td>\n",
       "      <td>25.751517</td>\n",
       "      <td>522.477276</td>\n",
       "      <td>23.774241</td>\n",
       "    </tr>\n",
       "    <tr>\n",
       "      <th>std</th>\n",
       "      <td>298.128816</td>\n",
       "      <td>6.506902</td>\n",
       "      <td>437.590318</td>\n",
       "      <td>15.733459</td>\n",
       "      <td>7.911239</td>\n",
       "      <td>497.383955</td>\n",
       "      <td>29.852017</td>\n",
       "      <td>4.701581</td>\n",
       "      <td>247.630096</td>\n",
       "      <td>4.357266</td>\n",
       "      <td>...</td>\n",
       "      <td>535.675785</td>\n",
       "      <td>8.076322</td>\n",
       "      <td>5.161231</td>\n",
       "      <td>61.085345</td>\n",
       "      <td>17.736049</td>\n",
       "      <td>4.121546</td>\n",
       "      <td>136.014045</td>\n",
       "      <td>5.689679</td>\n",
       "      <td>165.799217</td>\n",
       "      <td>4.021698</td>\n",
       "    </tr>\n",
       "    <tr>\n",
       "      <th>min</th>\n",
       "      <td>538.000000</td>\n",
       "      <td>0.000000</td>\n",
       "      <td>492.000000</td>\n",
       "      <td>0.000000</td>\n",
       "      <td>0.000000</td>\n",
       "      <td>662.000000</td>\n",
       "      <td>15.000000</td>\n",
       "      <td>0.000000</td>\n",
       "      <td>518.000000</td>\n",
       "      <td>0.000000</td>\n",
       "      <td>...</td>\n",
       "      <td>870.000000</td>\n",
       "      <td>3.000000</td>\n",
       "      <td>0.000000</td>\n",
       "      <td>1014.000000</td>\n",
       "      <td>66.000000</td>\n",
       "      <td>3.000000</td>\n",
       "      <td>1362.000000</td>\n",
       "      <td>0.000000</td>\n",
       "      <td>249.000000</td>\n",
       "      <td>0.000000</td>\n",
       "    </tr>\n",
       "    <tr>\n",
       "      <th>25%</th>\n",
       "      <td>834.000000</td>\n",
       "      <td>6.000000</td>\n",
       "      <td>993.000000</td>\n",
       "      <td>18.000000</td>\n",
       "      <td>17.000000</td>\n",
       "      <td>1172.000000</td>\n",
       "      <td>41.000000</td>\n",
       "      <td>4.000000</td>\n",
       "      <td>770.000000</td>\n",
       "      <td>9.000000</td>\n",
       "      <td>...</td>\n",
       "      <td>1039.000000</td>\n",
       "      <td>65.000000</td>\n",
       "      <td>11.000000</td>\n",
       "      <td>1103.000000</td>\n",
       "      <td>105.000000</td>\n",
       "      <td>22.000000</td>\n",
       "      <td>1638.000000</td>\n",
       "      <td>23.000000</td>\n",
       "      <td>384.000000</td>\n",
       "      <td>22.000000</td>\n",
       "    </tr>\n",
       "    <tr>\n",
       "      <th>50%</th>\n",
       "      <td>1019.000000</td>\n",
       "      <td>10.000000</td>\n",
       "      <td>1230.500000</td>\n",
       "      <td>26.000000</td>\n",
       "      <td>22.000000</td>\n",
       "      <td>1542.000000</td>\n",
       "      <td>53.000000</td>\n",
       "      <td>6.000000</td>\n",
       "      <td>971.000000</td>\n",
       "      <td>11.000000</td>\n",
       "      <td>...</td>\n",
       "      <td>1275.000000</td>\n",
       "      <td>70.000000</td>\n",
       "      <td>14.000000</td>\n",
       "      <td>1140.000000</td>\n",
       "      <td>118.000000</td>\n",
       "      <td>24.000000</td>\n",
       "      <td>1735.000000</td>\n",
       "      <td>26.000000</td>\n",
       "      <td>465.000000</td>\n",
       "      <td>23.000000</td>\n",
       "    </tr>\n",
       "    <tr>\n",
       "      <th>75%</th>\n",
       "      <td>1297.000000</td>\n",
       "      <td>14.000000</td>\n",
       "      <td>1460.000000</td>\n",
       "      <td>35.000000</td>\n",
       "      <td>28.000000</td>\n",
       "      <td>1924.000000</td>\n",
       "      <td>91.000000</td>\n",
       "      <td>9.000000</td>\n",
       "      <td>1162.000000</td>\n",
       "      <td>14.000000</td>\n",
       "      <td>...</td>\n",
       "      <td>1753.000000</td>\n",
       "      <td>74.000000</td>\n",
       "      <td>17.000000</td>\n",
       "      <td>1198.000000</td>\n",
       "      <td>130.000000</td>\n",
       "      <td>27.000000</td>\n",
       "      <td>1856.000000</td>\n",
       "      <td>28.000000</td>\n",
       "      <td>629.000000</td>\n",
       "      <td>25.000000</td>\n",
       "    </tr>\n",
       "    <tr>\n",
       "      <th>max</th>\n",
       "      <td>2098.000000</td>\n",
       "      <td>72.000000</td>\n",
       "      <td>2715.000000</td>\n",
       "      <td>178.000000</td>\n",
       "      <td>66.000000</td>\n",
       "      <td>3109.000000</td>\n",
       "      <td>160.000000</td>\n",
       "      <td>56.000000</td>\n",
       "      <td>1597.000000</td>\n",
       "      <td>34.000000</td>\n",
       "      <td>...</td>\n",
       "      <td>3099.000000</td>\n",
       "      <td>138.000000</td>\n",
       "      <td>59.000000</td>\n",
       "      <td>1350.000000</td>\n",
       "      <td>171.000000</td>\n",
       "      <td>50.000000</td>\n",
       "      <td>2105.000000</td>\n",
       "      <td>81.000000</td>\n",
       "      <td>965.000000</td>\n",
       "      <td>46.000000</td>\n",
       "    </tr>\n",
       "  </tbody>\n",
       "</table>\n",
       "<p>8 rows × 40 columns</p>\n",
       "</div>"
      ],
      "text/plain": [
       "                  0             1             2             3             4  \\\n",
       "count  32300.000000  32300.000000  32300.000000  32300.000000  32300.000000   \n",
       "mean    1080.010031     10.248885   1282.964737     28.563994     23.041269   \n",
       "std      298.128816      6.506902    437.590318     15.733459      7.911239   \n",
       "min      538.000000      0.000000    492.000000      0.000000      0.000000   \n",
       "25%      834.000000      6.000000    993.000000     18.000000     17.000000   \n",
       "50%     1019.000000     10.000000   1230.500000     26.000000     22.000000   \n",
       "75%     1297.000000     14.000000   1460.000000     35.000000     28.000000   \n",
       "max     2098.000000     72.000000   2715.000000    178.000000     66.000000   \n",
       "\n",
       "                  5             6             7             8             9  \\\n",
       "count  32300.000000  32300.000000  32300.000000  32300.000000  32300.000000   \n",
       "mean    1572.169876     66.113344      6.691146    976.046873     11.724768   \n",
       "std      497.383955     29.852017      4.701581    247.630096      4.357266   \n",
       "min      662.000000     15.000000      0.000000    518.000000      0.000000   \n",
       "25%     1172.000000     41.000000      4.000000    770.000000      9.000000   \n",
       "50%     1542.000000     53.000000      6.000000    971.000000     11.000000   \n",
       "75%     1924.000000     91.000000      9.000000   1162.000000     14.000000   \n",
       "max     3109.000000    160.000000     56.000000   1597.000000     34.000000   \n",
       "\n",
       "       ...            30            31            32            33  \\\n",
       "count  ...  32300.000000  32300.000000  32300.000000  32300.000000   \n",
       "mean   ...   1449.424180     69.892291     14.287523   1151.938607   \n",
       "std    ...    535.675785      8.076322      5.161231     61.085345   \n",
       "min    ...    870.000000      3.000000      0.000000   1014.000000   \n",
       "25%    ...   1039.000000     65.000000     11.000000   1103.000000   \n",
       "50%    ...   1275.000000     70.000000     14.000000   1140.000000   \n",
       "75%    ...   1753.000000     74.000000     17.000000   1198.000000   \n",
       "max    ...   3099.000000    138.000000     59.000000   1350.000000   \n",
       "\n",
       "                 34            35            36            37            38  \\\n",
       "count  32300.000000  32300.000000  32300.000000  32300.000000  32300.000000   \n",
       "mean     116.753746     24.823746   1741.236378     25.751517    522.477276   \n",
       "std       17.736049      4.121546    136.014045      5.689679    165.799217   \n",
       "min       66.000000      3.000000   1362.000000      0.000000    249.000000   \n",
       "25%      105.000000     22.000000   1638.000000     23.000000    384.000000   \n",
       "50%      118.000000     24.000000   1735.000000     26.000000    465.000000   \n",
       "75%      130.000000     27.000000   1856.000000     28.000000    629.000000   \n",
       "max      171.000000     50.000000   2105.000000     81.000000    965.000000   \n",
       "\n",
       "                 39  \n",
       "count  32300.000000  \n",
       "mean      23.774241  \n",
       "std        4.021698  \n",
       "min        0.000000  \n",
       "25%       22.000000  \n",
       "50%       23.000000  \n",
       "75%       25.000000  \n",
       "max       46.000000  \n",
       "\n",
       "[8 rows x 40 columns]"
      ]
     },
     "execution_count": 15,
     "metadata": {},
     "output_type": "execute_result"
    }
   ],
   "source": [
    "#show the basic descriptive statistics\n",
    "X_train.describe()"
   ]
  },
  {
   "cell_type": "code",
   "execution_count": 16,
   "id": "67005859",
   "metadata": {
    "execution": {
     "iopub.execute_input": "2024-07-24T22:17:07.109399Z",
     "iopub.status.busy": "2024-07-24T22:17:07.108489Z",
     "iopub.status.idle": "2024-07-24T22:17:07.223388Z",
     "shell.execute_reply": "2024-07-24T22:17:07.222138Z"
    },
    "papermill": {
     "duration": 0.137532,
     "end_time": "2024-07-24T22:17:07.226414",
     "exception": false,
     "start_time": "2024-07-24T22:17:07.088882",
     "status": "completed"
    },
    "tags": []
   },
   "outputs": [
    {
     "data": {
      "text/html": [
       "<div>\n",
       "<style scoped>\n",
       "    .dataframe tbody tr th:only-of-type {\n",
       "        vertical-align: middle;\n",
       "    }\n",
       "\n",
       "    .dataframe tbody tr th {\n",
       "        vertical-align: top;\n",
       "    }\n",
       "\n",
       "    .dataframe thead th {\n",
       "        text-align: right;\n",
       "    }\n",
       "</style>\n",
       "<table border=\"1\" class=\"dataframe\">\n",
       "  <thead>\n",
       "    <tr style=\"text-align: right;\">\n",
       "      <th></th>\n",
       "      <th>0</th>\n",
       "      <th>1</th>\n",
       "      <th>2</th>\n",
       "      <th>3</th>\n",
       "      <th>4</th>\n",
       "      <th>5</th>\n",
       "      <th>6</th>\n",
       "      <th>7</th>\n",
       "      <th>8</th>\n",
       "      <th>9</th>\n",
       "      <th>...</th>\n",
       "      <th>30</th>\n",
       "      <th>31</th>\n",
       "      <th>32</th>\n",
       "      <th>33</th>\n",
       "      <th>34</th>\n",
       "      <th>35</th>\n",
       "      <th>36</th>\n",
       "      <th>37</th>\n",
       "      <th>38</th>\n",
       "      <th>39</th>\n",
       "    </tr>\n",
       "  </thead>\n",
       "  <tbody>\n",
       "    <tr>\n",
       "      <th>count</th>\n",
       "      <td>5400.000000</td>\n",
       "      <td>5400.000000</td>\n",
       "      <td>5400.000000</td>\n",
       "      <td>5400.000000</td>\n",
       "      <td>5400.000000</td>\n",
       "      <td>5400.000000</td>\n",
       "      <td>5400.000000</td>\n",
       "      <td>5400.000000</td>\n",
       "      <td>5400.000000</td>\n",
       "      <td>5400.000000</td>\n",
       "      <td>...</td>\n",
       "      <td>5400.000000</td>\n",
       "      <td>5400.000000</td>\n",
       "      <td>5400.000000</td>\n",
       "      <td>5400.000000</td>\n",
       "      <td>5400.000000</td>\n",
       "      <td>5400.000000</td>\n",
       "      <td>5400.000000</td>\n",
       "      <td>5400.000000</td>\n",
       "      <td>5400.000000</td>\n",
       "      <td>5400.000000</td>\n",
       "    </tr>\n",
       "    <tr>\n",
       "      <th>mean</th>\n",
       "      <td>1050.978704</td>\n",
       "      <td>11.676111</td>\n",
       "      <td>1197.300741</td>\n",
       "      <td>30.328519</td>\n",
       "      <td>28.809444</td>\n",
       "      <td>1485.755741</td>\n",
       "      <td>81.440741</td>\n",
       "      <td>6.500741</td>\n",
       "      <td>950.107037</td>\n",
       "      <td>13.213889</td>\n",
       "      <td>...</td>\n",
       "      <td>1352.212963</td>\n",
       "      <td>72.203889</td>\n",
       "      <td>14.070185</td>\n",
       "      <td>1159.929074</td>\n",
       "      <td>123.828889</td>\n",
       "      <td>25.194074</td>\n",
       "      <td>1818.200556</td>\n",
       "      <td>25.937963</td>\n",
       "      <td>506.646296</td>\n",
       "      <td>24.635926</td>\n",
       "    </tr>\n",
       "    <tr>\n",
       "      <th>std</th>\n",
       "      <td>320.314581</td>\n",
       "      <td>6.479004</td>\n",
       "      <td>478.746999</td>\n",
       "      <td>14.561589</td>\n",
       "      <td>9.045817</td>\n",
       "      <td>521.099273</td>\n",
       "      <td>34.071254</td>\n",
       "      <td>4.629643</td>\n",
       "      <td>277.614835</td>\n",
       "      <td>5.051723</td>\n",
       "      <td>...</td>\n",
       "      <td>537.844671</td>\n",
       "      <td>7.639916</td>\n",
       "      <td>5.017775</td>\n",
       "      <td>69.850392</td>\n",
       "      <td>16.657894</td>\n",
       "      <td>4.307125</td>\n",
       "      <td>138.043558</td>\n",
       "      <td>5.550559</td>\n",
       "      <td>184.749576</td>\n",
       "      <td>4.099391</td>\n",
       "    </tr>\n",
       "    <tr>\n",
       "      <th>min</th>\n",
       "      <td>534.000000</td>\n",
       "      <td>0.000000</td>\n",
       "      <td>440.000000</td>\n",
       "      <td>0.000000</td>\n",
       "      <td>0.000000</td>\n",
       "      <td>635.000000</td>\n",
       "      <td>14.000000</td>\n",
       "      <td>0.000000</td>\n",
       "      <td>502.000000</td>\n",
       "      <td>0.000000</td>\n",
       "      <td>...</td>\n",
       "      <td>840.000000</td>\n",
       "      <td>18.000000</td>\n",
       "      <td>0.000000</td>\n",
       "      <td>1021.000000</td>\n",
       "      <td>81.000000</td>\n",
       "      <td>9.000000</td>\n",
       "      <td>1493.000000</td>\n",
       "      <td>0.000000</td>\n",
       "      <td>233.000000</td>\n",
       "      <td>0.000000</td>\n",
       "    </tr>\n",
       "    <tr>\n",
       "      <th>25%</th>\n",
       "      <td>772.000000</td>\n",
       "      <td>8.000000</td>\n",
       "      <td>775.750000</td>\n",
       "      <td>20.000000</td>\n",
       "      <td>22.000000</td>\n",
       "      <td>1048.000000</td>\n",
       "      <td>59.000000</td>\n",
       "      <td>4.000000</td>\n",
       "      <td>712.500000</td>\n",
       "      <td>10.000000</td>\n",
       "      <td>...</td>\n",
       "      <td>951.000000</td>\n",
       "      <td>68.000000</td>\n",
       "      <td>11.000000</td>\n",
       "      <td>1104.000000</td>\n",
       "      <td>113.000000</td>\n",
       "      <td>22.000000</td>\n",
       "      <td>1712.000000</td>\n",
       "      <td>23.000000</td>\n",
       "      <td>352.000000</td>\n",
       "      <td>23.000000</td>\n",
       "    </tr>\n",
       "    <tr>\n",
       "      <th>50%</th>\n",
       "      <td>964.000000</td>\n",
       "      <td>12.000000</td>\n",
       "      <td>1151.000000</td>\n",
       "      <td>28.000000</td>\n",
       "      <td>29.000000</td>\n",
       "      <td>1414.000000</td>\n",
       "      <td>66.000000</td>\n",
       "      <td>6.000000</td>\n",
       "      <td>915.000000</td>\n",
       "      <td>12.000000</td>\n",
       "      <td>...</td>\n",
       "      <td>1180.500000</td>\n",
       "      <td>72.000000</td>\n",
       "      <td>14.000000</td>\n",
       "      <td>1157.000000</td>\n",
       "      <td>124.000000</td>\n",
       "      <td>24.000000</td>\n",
       "      <td>1836.000000</td>\n",
       "      <td>26.000000</td>\n",
       "      <td>436.000000</td>\n",
       "      <td>24.000000</td>\n",
       "    </tr>\n",
       "    <tr>\n",
       "      <th>75%</th>\n",
       "      <td>1339.000000</td>\n",
       "      <td>16.000000</td>\n",
       "      <td>1474.250000</td>\n",
       "      <td>37.000000</td>\n",
       "      <td>33.000000</td>\n",
       "      <td>1887.000000</td>\n",
       "      <td>104.000000</td>\n",
       "      <td>9.000000</td>\n",
       "      <td>1179.000000</td>\n",
       "      <td>16.000000</td>\n",
       "      <td>...</td>\n",
       "      <td>1528.000000</td>\n",
       "      <td>77.000000</td>\n",
       "      <td>17.000000</td>\n",
       "      <td>1206.000000</td>\n",
       "      <td>133.000000</td>\n",
       "      <td>28.000000</td>\n",
       "      <td>1918.000000</td>\n",
       "      <td>29.000000</td>\n",
       "      <td>637.000000</td>\n",
       "      <td>26.000000</td>\n",
       "    </tr>\n",
       "    <tr>\n",
       "      <th>max</th>\n",
       "      <td>1925.000000</td>\n",
       "      <td>72.000000</td>\n",
       "      <td>2674.000000</td>\n",
       "      <td>129.000000</td>\n",
       "      <td>59.000000</td>\n",
       "      <td>3026.000000</td>\n",
       "      <td>184.000000</td>\n",
       "      <td>51.000000</td>\n",
       "      <td>1644.000000</td>\n",
       "      <td>35.000000</td>\n",
       "      <td>...</td>\n",
       "      <td>3130.000000</td>\n",
       "      <td>129.000000</td>\n",
       "      <td>56.000000</td>\n",
       "      <td>1352.000000</td>\n",
       "      <td>165.000000</td>\n",
       "      <td>41.000000</td>\n",
       "      <td>2091.000000</td>\n",
       "      <td>68.000000</td>\n",
       "      <td>976.000000</td>\n",
       "      <td>42.000000</td>\n",
       "    </tr>\n",
       "  </tbody>\n",
       "</table>\n",
       "<p>8 rows × 40 columns</p>\n",
       "</div>"
      ],
      "text/plain": [
       "                 0            1            2            3            4  \\\n",
       "count  5400.000000  5400.000000  5400.000000  5400.000000  5400.000000   \n",
       "mean   1050.978704    11.676111  1197.300741    30.328519    28.809444   \n",
       "std     320.314581     6.479004   478.746999    14.561589     9.045817   \n",
       "min     534.000000     0.000000   440.000000     0.000000     0.000000   \n",
       "25%     772.000000     8.000000   775.750000    20.000000    22.000000   \n",
       "50%     964.000000    12.000000  1151.000000    28.000000    29.000000   \n",
       "75%    1339.000000    16.000000  1474.250000    37.000000    33.000000   \n",
       "max    1925.000000    72.000000  2674.000000   129.000000    59.000000   \n",
       "\n",
       "                 5            6            7            8            9  ...  \\\n",
       "count  5400.000000  5400.000000  5400.000000  5400.000000  5400.000000  ...   \n",
       "mean   1485.755741    81.440741     6.500741   950.107037    13.213889  ...   \n",
       "std     521.099273    34.071254     4.629643   277.614835     5.051723  ...   \n",
       "min     635.000000    14.000000     0.000000   502.000000     0.000000  ...   \n",
       "25%    1048.000000    59.000000     4.000000   712.500000    10.000000  ...   \n",
       "50%    1414.000000    66.000000     6.000000   915.000000    12.000000  ...   \n",
       "75%    1887.000000   104.000000     9.000000  1179.000000    16.000000  ...   \n",
       "max    3026.000000   184.000000    51.000000  1644.000000    35.000000  ...   \n",
       "\n",
       "                30           31           32           33           34  \\\n",
       "count  5400.000000  5400.000000  5400.000000  5400.000000  5400.000000   \n",
       "mean   1352.212963    72.203889    14.070185  1159.929074   123.828889   \n",
       "std     537.844671     7.639916     5.017775    69.850392    16.657894   \n",
       "min     840.000000    18.000000     0.000000  1021.000000    81.000000   \n",
       "25%     951.000000    68.000000    11.000000  1104.000000   113.000000   \n",
       "50%    1180.500000    72.000000    14.000000  1157.000000   124.000000   \n",
       "75%    1528.000000    77.000000    17.000000  1206.000000   133.000000   \n",
       "max    3130.000000   129.000000    56.000000  1352.000000   165.000000   \n",
       "\n",
       "                35           36           37           38           39  \n",
       "count  5400.000000  5400.000000  5400.000000  5400.000000  5400.000000  \n",
       "mean     25.194074  1818.200556    25.937963   506.646296    24.635926  \n",
       "std       4.307125   138.043558     5.550559   184.749576     4.099391  \n",
       "min       9.000000  1493.000000     0.000000   233.000000     0.000000  \n",
       "25%      22.000000  1712.000000    23.000000   352.000000    23.000000  \n",
       "50%      24.000000  1836.000000    26.000000   436.000000    24.000000  \n",
       "75%      28.000000  1918.000000    29.000000   637.000000    26.000000  \n",
       "max      41.000000  2091.000000    68.000000   976.000000    42.000000  \n",
       "\n",
       "[8 rows x 40 columns]"
      ]
     },
     "execution_count": 16,
     "metadata": {},
     "output_type": "execute_result"
    }
   ],
   "source": [
    "#show the basic descriptive statistics\n",
    "X_test.describe()"
   ]
  },
  {
   "cell_type": "markdown",
   "id": "011c84ef",
   "metadata": {
    "papermill": {
     "duration": 0.019391,
     "end_time": "2024-07-24T22:17:07.264833",
     "exception": false,
     "start_time": "2024-07-24T22:17:07.245442",
     "status": "completed"
    },
    "tags": []
   },
   "source": [
    "#### Encoding Features"
   ]
  },
  {
   "cell_type": "code",
   "execution_count": 17,
   "id": "d671a766",
   "metadata": {
    "execution": {
     "iopub.execute_input": "2024-07-24T22:17:07.304525Z",
     "iopub.status.busy": "2024-07-24T22:17:07.304117Z",
     "iopub.status.idle": "2024-07-24T22:17:07.328832Z",
     "shell.execute_reply": "2024-07-24T22:17:07.327697Z"
    },
    "papermill": {
     "duration": 0.048055,
     "end_time": "2024-07-24T22:17:07.331855",
     "exception": false,
     "start_time": "2024-07-24T22:17:07.283800",
     "status": "completed"
    },
    "tags": []
   },
   "outputs": [],
   "source": [
    "#initialize the normalizer\n",
    "mm_scaler = preprocessing.MinMaxScaler()\n",
    "\n",
    "#encode the features\n",
    "X_train_scaled = mm_scaler.fit_transform(X_train)\n",
    "X_test_scaled = mm_scaler.fit_transform(X_test)"
   ]
  },
  {
   "cell_type": "code",
   "execution_count": 18,
   "id": "27400d9a",
   "metadata": {
    "execution": {
     "iopub.execute_input": "2024-07-24T22:17:07.371983Z",
     "iopub.status.busy": "2024-07-24T22:17:07.371531Z",
     "iopub.status.idle": "2024-07-24T22:17:07.379424Z",
     "shell.execute_reply": "2024-07-24T22:17:07.378178Z"
    },
    "papermill": {
     "duration": 0.031066,
     "end_time": "2024-07-24T22:17:07.382011",
     "exception": false,
     "start_time": "2024-07-24T22:17:07.350945",
     "status": "completed"
    },
    "tags": []
   },
   "outputs": [
    {
     "data": {
      "text/plain": [
       "((32300, 40), (5400, 40))"
      ]
     },
     "execution_count": 18,
     "metadata": {},
     "output_type": "execute_result"
    }
   ],
   "source": [
    "#confirm the dimensions\n",
    "X_train_scaled.shape, X_test_scaled.shape"
   ]
  },
  {
   "cell_type": "code",
   "execution_count": 19,
   "id": "ea75fb58",
   "metadata": {
    "execution": {
     "iopub.execute_input": "2024-07-24T22:17:07.422646Z",
     "iopub.status.busy": "2024-07-24T22:17:07.422174Z",
     "iopub.status.idle": "2024-07-24T22:17:07.427642Z",
     "shell.execute_reply": "2024-07-24T22:17:07.426385Z"
    },
    "papermill": {
     "duration": 0.028868,
     "end_time": "2024-07-24T22:17:07.430226",
     "exception": false,
     "start_time": "2024-07-24T22:17:07.401358",
     "status": "completed"
    },
    "tags": []
   },
   "outputs": [],
   "source": [
    "#select the features\n",
    "y_train = y_train['class']"
   ]
  },
  {
   "cell_type": "markdown",
   "id": "c52b88c5",
   "metadata": {
    "papermill": {
     "duration": 0.018994,
     "end_time": "2024-07-24T22:17:07.468718",
     "exception": false,
     "start_time": "2024-07-24T22:17:07.449724",
     "status": "completed"
    },
    "tags": []
   },
   "source": [
    "#### Model Learning with Random Forest"
   ]
  },
  {
   "cell_type": "code",
   "execution_count": 20,
   "id": "400d39fd",
   "metadata": {
    "execution": {
     "iopub.execute_input": "2024-07-24T22:17:07.509534Z",
     "iopub.status.busy": "2024-07-24T22:17:07.509111Z",
     "iopub.status.idle": "2024-07-24T22:17:07.518737Z",
     "shell.execute_reply": "2024-07-24T22:17:07.517531Z"
    },
    "papermill": {
     "duration": 0.032995,
     "end_time": "2024-07-24T22:17:07.521230",
     "exception": false,
     "start_time": "2024-07-24T22:17:07.488235",
     "status": "completed"
    },
    "tags": []
   },
   "outputs": [],
   "source": [
    "#use the Optuna method to look for best hyper parameters\n",
    "def optuna_rf(trial):\n",
    "  #set hyperparameters\n",
    "  n_estimators = trial.suggest_categorical('n_estimators', [50, 100, 125, 150, 175, 200])\n",
    "  max_depth = trial.suggest_categorical('max_depth', [3, 5, 7, 10, 15, 20])\n",
    "  min_samples_leaf = trial.suggest_categorical('min_samples_leaf', [1, 2, 3, 4, 5])\n",
    "  criterion = trial.suggest_categorical('criterion', ['gini', 'entropy'])\n",
    "  max_features = trial.suggest_categorical('max_features', ['sqrt', 'log2', None])\n",
    "  \n",
    "  #use the combinations for model build\n",
    "  model = ensemble.RandomForestClassifier(n_estimators=n_estimators,\n",
    "                                          max_depth=max_depth,\n",
    "                                          min_samples_leaf=min_samples_leaf,\n",
    "                                          criterion=criterion,\n",
    "                                          max_features=max_features,\n",
    "                                          random_state=42)\n",
    "  \n",
    "  #model learning through cross-validation\n",
    "  score = model_selection.cross_val_score(\n",
    "    model,\n",
    "    X=X_train_scaled,\n",
    "    y=y_train,\n",
    "    cv=5,\n",
    "    scoring='f1_micro', \n",
    "    n_jobs=-1).mean()\n",
    "\n",
    "  return score"
   ]
  },
  {
   "cell_type": "code",
   "execution_count": 21,
   "id": "b10465f5",
   "metadata": {
    "execution": {
     "iopub.execute_input": "2024-07-24T22:17:07.561717Z",
     "iopub.status.busy": "2024-07-24T22:17:07.561267Z",
     "iopub.status.idle": "2024-07-24T22:37:07.574991Z",
     "shell.execute_reply": "2024-07-24T22:37:07.573559Z"
    },
    "papermill": {
     "duration": 1200.059459,
     "end_time": "2024-07-24T22:37:07.599848",
     "exception": false,
     "start_time": "2024-07-24T22:17:07.540389",
     "status": "completed"
    },
    "tags": []
   },
   "outputs": [
    {
     "name": "stderr",
     "output_type": "stream",
     "text": [
      "[I 2024-07-24 22:17:07,564] A new study created in memory with name: RandomForestClassifier\n",
      "[I 2024-07-24 22:17:59,879] Trial 0 finished with value: 0.7462848297213623 and parameters: {'n_estimators': 50, 'max_depth': 10, 'min_samples_leaf': 1, 'criterion': 'gini', 'max_features': None}. Best is trial 0 with value: 0.7462848297213623.\n",
      "[I 2024-07-24 22:18:23,989] Trial 1 finished with value: 0.7658513931888544 and parameters: {'n_estimators': 100, 'max_depth': 15, 'min_samples_leaf': 1, 'criterion': 'entropy', 'max_features': 'log2'}. Best is trial 1 with value: 0.7658513931888544.\n",
      "[I 2024-07-24 22:22:24,063] Trial 2 finished with value: 0.7016099071207431 and parameters: {'n_estimators': 150, 'max_depth': 20, 'min_samples_leaf': 2, 'criterion': 'entropy', 'max_features': None}. Best is trial 1 with value: 0.7658513931888544.\n",
      "[I 2024-07-24 22:26:22,888] Trial 3 finished with value: 0.7519814241486068 and parameters: {'n_estimators': 200, 'max_depth': 10, 'min_samples_leaf': 4, 'criterion': 'entropy', 'max_features': None}. Best is trial 1 with value: 0.7658513931888544.\n",
      "[I 2024-07-24 22:30:19,794] Trial 4 finished with value: 0.751547987616099 and parameters: {'n_estimators': 200, 'max_depth': 10, 'min_samples_leaf': 5, 'criterion': 'entropy', 'max_features': None}. Best is trial 1 with value: 0.7658513931888544.\n",
      "[I 2024-07-24 22:30:29,315] Trial 5 finished with value: 0.6698452012383902 and parameters: {'n_estimators': 150, 'max_depth': 3, 'min_samples_leaf': 1, 'criterion': 'entropy', 'max_features': 'log2'}. Best is trial 1 with value: 0.7658513931888544.\n",
      "[I 2024-07-24 22:30:51,650] Trial 6 finished with value: 0.7808359133126934 and parameters: {'n_estimators': 200, 'max_depth': 7, 'min_samples_leaf': 1, 'criterion': 'gini', 'max_features': 'log2'}. Best is trial 6 with value: 0.7808359133126934.\n",
      "[I 2024-07-24 22:31:14,099] Trial 7 finished with value: 0.7914241486068111 and parameters: {'n_estimators': 125, 'max_depth': 10, 'min_samples_leaf': 5, 'criterion': 'entropy', 'max_features': 'log2'}. Best is trial 7 with value: 0.7914241486068111.\n",
      "[I 2024-07-24 22:31:33,115] Trial 8 finished with value: 0.7897213622291022 and parameters: {'n_estimators': 125, 'max_depth': 7, 'min_samples_leaf': 3, 'criterion': 'entropy', 'max_features': 'sqrt'}. Best is trial 7 with value: 0.7914241486068111.\n",
      "[I 2024-07-24 22:34:15,734] Trial 9 finished with value: 0.7084520123839009 and parameters: {'n_estimators': 100, 'max_depth': 20, 'min_samples_leaf': 1, 'criterion': 'entropy', 'max_features': None}. Best is trial 7 with value: 0.7914241486068111.\n",
      "[I 2024-07-24 22:34:28,150] Trial 10 finished with value: 0.7496904024767803 and parameters: {'n_estimators': 125, 'max_depth': 5, 'min_samples_leaf': 5, 'criterion': 'gini', 'max_features': 'sqrt'}. Best is trial 7 with value: 0.7914241486068111.\n",
      "[I 2024-07-24 22:34:47,048] Trial 11 finished with value: 0.7897213622291022 and parameters: {'n_estimators': 125, 'max_depth': 7, 'min_samples_leaf': 3, 'criterion': 'entropy', 'max_features': 'sqrt'}. Best is trial 7 with value: 0.7914241486068111.\n",
      "[I 2024-07-24 22:35:06,475] Trial 12 finished with value: 0.7897213622291022 and parameters: {'n_estimators': 125, 'max_depth': 7, 'min_samples_leaf': 3, 'criterion': 'entropy', 'max_features': 'sqrt'}. Best is trial 7 with value: 0.7914241486068111.\n",
      "[I 2024-07-24 22:35:25,854] Trial 13 finished with value: 0.7602476780185758 and parameters: {'n_estimators': 175, 'max_depth': 5, 'min_samples_leaf': 3, 'criterion': 'entropy', 'max_features': 'sqrt'}. Best is trial 7 with value: 0.7914241486068111.\n",
      "[I 2024-07-24 22:35:50,118] Trial 14 finished with value: 0.7678018575851393 and parameters: {'n_estimators': 125, 'max_depth': 15, 'min_samples_leaf': 5, 'criterion': 'gini', 'max_features': 'log2'}. Best is trial 7 with value: 0.7914241486068111.\n",
      "[I 2024-07-24 22:35:59,089] Trial 15 finished with value: 0.6762848297213623 and parameters: {'n_estimators': 125, 'max_depth': 3, 'min_samples_leaf': 2, 'criterion': 'entropy', 'max_features': 'sqrt'}. Best is trial 7 with value: 0.7914241486068111.\n",
      "[I 2024-07-24 22:36:22,190] Trial 16 finished with value: 0.7844891640866873 and parameters: {'n_estimators': 175, 'max_depth': 7, 'min_samples_leaf': 4, 'criterion': 'entropy', 'max_features': 'log2'}. Best is trial 7 with value: 0.7914241486068111.\n",
      "[I 2024-07-24 22:36:32,833] Trial 17 finished with value: 0.7891640866873064 and parameters: {'n_estimators': 50, 'max_depth': 10, 'min_samples_leaf': 3, 'criterion': 'entropy', 'max_features': 'sqrt'}. Best is trial 7 with value: 0.7914241486068111.\n",
      "[I 2024-07-24 22:36:51,127] Trial 18 finished with value: 0.7812693498452011 and parameters: {'n_estimators': 125, 'max_depth': 10, 'min_samples_leaf': 5, 'criterion': 'gini', 'max_features': 'log2'}. Best is trial 7 with value: 0.7914241486068111.\n",
      "[I 2024-07-24 22:37:07,568] Trial 19 finished with value: 0.7874922600619195 and parameters: {'n_estimators': 125, 'max_depth': 7, 'min_samples_leaf': 3, 'criterion': 'entropy', 'max_features': 'log2'}. Best is trial 7 with value: 0.7914241486068111.\n"
     ]
    },
    {
     "name": "stdout",
     "output_type": "stream",
     "text": [
      "CPU times: user 6.15 s, sys: 2.36 s, total: 8.51 s\n",
      "Wall time: 20min\n"
     ]
    }
   ],
   "source": [
    "%%time\n",
    "#begin hyperparameters selection\n",
    "#create review object\n",
    "study_optuna = optuna.create_study(study_name='RandomForestClassifier',\n",
    "                                   direction='maximize')\n",
    "\n",
    "#search for the best combination\n",
    "study_optuna.optimize(optuna_rf, n_trials=20)"
   ]
  },
  {
   "cell_type": "code",
   "execution_count": 22,
   "id": "91bd10ac",
   "metadata": {
    "execution": {
     "iopub.execute_input": "2024-07-24T22:37:07.646171Z",
     "iopub.status.busy": "2024-07-24T22:37:07.645711Z",
     "iopub.status.idle": "2024-07-24T22:37:07.653048Z",
     "shell.execute_reply": "2024-07-24T22:37:07.651828Z"
    },
    "papermill": {
     "duration": 0.033728,
     "end_time": "2024-07-24T22:37:07.655944",
     "exception": false,
     "start_time": "2024-07-24T22:37:07.622216",
     "status": "completed"
    },
    "tags": []
   },
   "outputs": [
    {
     "name": "stdout",
     "output_type": "stream",
     "text": [
      "train data:\n",
      "f1 score: 0.791\n",
      "hyperparameters for random forest with optuna {'n_estimators': 125, 'max_depth': 10, 'min_samples_leaf': 5, 'criterion': 'entropy', 'max_features': 'log2'}\n"
     ]
    }
   ],
   "source": [
    "#display results for train data\n",
    "print('train data:')\n",
    "print(f'f1 score: {study_optuna.best_value:.3f}')\n",
    "print(f'hyperparameters for random forest with optuna {study_optuna.best_params}')"
   ]
  },
  {
   "cell_type": "code",
   "execution_count": 23,
   "id": "67045c9e",
   "metadata": {
    "execution": {
     "iopub.execute_input": "2024-07-24T22:37:07.702830Z",
     "iopub.status.busy": "2024-07-24T22:37:07.701723Z",
     "iopub.status.idle": "2024-07-24T22:37:07.707830Z",
     "shell.execute_reply": "2024-07-24T22:37:07.706684Z"
    },
    "papermill": {
     "duration": 0.032246,
     "end_time": "2024-07-24T22:37:07.710585",
     "exception": false,
     "start_time": "2024-07-24T22:37:07.678339",
     "status": "completed"
    },
    "tags": []
   },
   "outputs": [],
   "source": [
    "#find the metrics for test data\n",
    "model_opt_rf = ensemble.RandomForestClassifier(**study_optuna.best_params,\n",
    "                                               random_state=42,\n",
    "                                               )"
   ]
  },
  {
   "cell_type": "code",
   "execution_count": 24,
   "id": "88db9374",
   "metadata": {
    "execution": {
     "iopub.execute_input": "2024-07-24T22:37:07.757659Z",
     "iopub.status.busy": "2024-07-24T22:37:07.756420Z",
     "iopub.status.idle": "2024-07-24T22:37:19.243483Z",
     "shell.execute_reply": "2024-07-24T22:37:19.242370Z"
    },
    "papermill": {
     "duration": 11.513198,
     "end_time": "2024-07-24T22:37:19.246296",
     "exception": false,
     "start_time": "2024-07-24T22:37:07.733098",
     "status": "completed"
    },
    "tags": []
   },
   "outputs": [],
   "source": [
    "#model learning\n",
    "model_opt_rf.fit(X_train_scaled, y_train)\n",
    "\n",
    "#make a prediction\n",
    "y_train_pred = model_opt_rf.predict(X_train_scaled)"
   ]
  },
  {
   "cell_type": "markdown",
   "id": "16cab734",
   "metadata": {
    "papermill": {
     "duration": 0.022365,
     "end_time": "2024-07-24T22:37:19.291165",
     "exception": false,
     "start_time": "2024-07-24T22:37:19.268800",
     "status": "completed"
    },
    "tags": []
   },
   "source": [
    "В качестве метрики оценки качества решения выбран Mean F-Score."
   ]
  },
  {
   "cell_type": "code",
   "execution_count": 25,
   "id": "4f640b59",
   "metadata": {
    "execution": {
     "iopub.execute_input": "2024-07-24T22:37:19.338210Z",
     "iopub.status.busy": "2024-07-24T22:37:19.337722Z",
     "iopub.status.idle": "2024-07-24T22:37:19.851767Z",
     "shell.execute_reply": "2024-07-24T22:37:19.850654Z"
    },
    "papermill": {
     "duration": 0.541041,
     "end_time": "2024-07-24T22:37:19.854269",
     "exception": false,
     "start_time": "2024-07-24T22:37:19.313228",
     "status": "completed"
    },
    "tags": []
   },
   "outputs": [
    {
     "name": "stdout",
     "output_type": "stream",
     "text": [
      "train data:\n",
      "f1_score: 0.866\n",
      "accuracy: 0.866\n"
     ]
    }
   ],
   "source": [
    "#display the metrics\n",
    "print('train data:')\n",
    "print(f'f1_score: {metrics.f1_score(y_train, y_train_pred, average=\"micro\"):.3f}')\n",
    "print(f'accuracy: {model_opt_rf.score(X_train_scaled, y_train):.3f}')"
   ]
  },
  {
   "cell_type": "code",
   "execution_count": 26,
   "id": "3f824f59",
   "metadata": {
    "execution": {
     "iopub.execute_input": "2024-07-24T22:37:19.900923Z",
     "iopub.status.busy": "2024-07-24T22:37:19.899819Z",
     "iopub.status.idle": "2024-07-24T22:37:20.575700Z",
     "shell.execute_reply": "2024-07-24T22:37:20.574540Z"
    },
    "papermill": {
     "duration": 0.70176,
     "end_time": "2024-07-24T22:37:20.578183",
     "exception": false,
     "start_time": "2024-07-24T22:37:19.876423",
     "status": "completed"
    },
    "tags": []
   },
   "outputs": [
    {
     "data": {
      "text/html": [
       "        <script type=\"text/javascript\">\n",
       "        window.PlotlyConfig = {MathJaxConfig: 'local'};\n",
       "        if (window.MathJax && window.MathJax.Hub && window.MathJax.Hub.Config) {window.MathJax.Hub.Config({SVG: {font: \"STIX-Web\"}});}\n",
       "        if (typeof require !== 'undefined') {\n",
       "        require.undef(\"plotly\");\n",
       "        requirejs.config({\n",
       "            paths: {\n",
       "                'plotly': ['https://cdn.plot.ly/plotly-2.27.0.min']\n",
       "            }\n",
       "        });\n",
       "        require(['plotly'], function(Plotly) {\n",
       "            window._Plotly = Plotly;\n",
       "        });\n",
       "        }\n",
       "        </script>\n",
       "        "
      ]
     },
     "metadata": {},
     "output_type": "display_data"
    },
    {
     "data": {
      "text/html": [
       "<div>                            <div id=\"11f45d25-bbd4-4347-9b61-62cbefd48bc9\" class=\"plotly-graph-div\" style=\"height:525px; width:100%;\"></div>            <script type=\"text/javascript\">                require([\"plotly\"], function(Plotly) {                    window.PLOTLYENV=window.PLOTLYENV || {};                                    if (document.getElementById(\"11f45d25-bbd4-4347-9b61-62cbefd48bc9\")) {                    Plotly.newPlot(                        \"11f45d25-bbd4-4347-9b61-62cbefd48bc9\",                        [{\"mode\":\"markers\",\"name\":\"f1_score = micro\",\"x\":[0,1,2,3,4,5,6,7,8,9,10,11,12,13,14,15,16,17,18,19],\"y\":[0.7462848297213623,0.7658513931888544,0.7016099071207431,0.7519814241486068,0.751547987616099,0.6698452012383902,0.7808359133126934,0.7914241486068111,0.7897213622291022,0.7084520123839009,0.7496904024767803,0.7897213622291022,0.7897213622291022,0.7602476780185758,0.7678018575851393,0.6762848297213623,0.7844891640866873,0.7891640866873064,0.7812693498452011,0.7874922600619195],\"type\":\"scatter\"},{\"mode\":\"lines\",\"name\":\"Best Value\",\"x\":[0,1,2,3,4,5,6,7,8,9,10,11,12,13,14,15,16,17,18,19],\"y\":[0.7462848297213623,0.7658513931888544,0.7658513931888544,0.7658513931888544,0.7658513931888544,0.7658513931888544,0.7808359133126934,0.7914241486068111,0.7914241486068111,0.7914241486068111,0.7914241486068111,0.7914241486068111,0.7914241486068111,0.7914241486068111,0.7914241486068111,0.7914241486068111,0.7914241486068111,0.7914241486068111,0.7914241486068111,0.7914241486068111],\"type\":\"scatter\"},{\"marker\":{\"color\":\"#cccccc\"},\"mode\":\"markers\",\"name\":\"Infeasible Trial\",\"showlegend\":false,\"x\":[],\"y\":[],\"type\":\"scatter\"}],                        {\"title\":{\"text\":\"Optimization History Plot\"},\"xaxis\":{\"title\":{\"text\":\"Trial\"}},\"yaxis\":{\"title\":{\"text\":\"f1_score = micro\"}},\"template\":{\"data\":{\"histogram2dcontour\":[{\"type\":\"histogram2dcontour\",\"colorbar\":{\"outlinewidth\":0,\"ticks\":\"\"},\"colorscale\":[[0.0,\"#0d0887\"],[0.1111111111111111,\"#46039f\"],[0.2222222222222222,\"#7201a8\"],[0.3333333333333333,\"#9c179e\"],[0.4444444444444444,\"#bd3786\"],[0.5555555555555556,\"#d8576b\"],[0.6666666666666666,\"#ed7953\"],[0.7777777777777778,\"#fb9f3a\"],[0.8888888888888888,\"#fdca26\"],[1.0,\"#f0f921\"]]}],\"choropleth\":[{\"type\":\"choropleth\",\"colorbar\":{\"outlinewidth\":0,\"ticks\":\"\"}}],\"histogram2d\":[{\"type\":\"histogram2d\",\"colorbar\":{\"outlinewidth\":0,\"ticks\":\"\"},\"colorscale\":[[0.0,\"#0d0887\"],[0.1111111111111111,\"#46039f\"],[0.2222222222222222,\"#7201a8\"],[0.3333333333333333,\"#9c179e\"],[0.4444444444444444,\"#bd3786\"],[0.5555555555555556,\"#d8576b\"],[0.6666666666666666,\"#ed7953\"],[0.7777777777777778,\"#fb9f3a\"],[0.8888888888888888,\"#fdca26\"],[1.0,\"#f0f921\"]]}],\"heatmap\":[{\"type\":\"heatmap\",\"colorbar\":{\"outlinewidth\":0,\"ticks\":\"\"},\"colorscale\":[[0.0,\"#0d0887\"],[0.1111111111111111,\"#46039f\"],[0.2222222222222222,\"#7201a8\"],[0.3333333333333333,\"#9c179e\"],[0.4444444444444444,\"#bd3786\"],[0.5555555555555556,\"#d8576b\"],[0.6666666666666666,\"#ed7953\"],[0.7777777777777778,\"#fb9f3a\"],[0.8888888888888888,\"#fdca26\"],[1.0,\"#f0f921\"]]}],\"heatmapgl\":[{\"type\":\"heatmapgl\",\"colorbar\":{\"outlinewidth\":0,\"ticks\":\"\"},\"colorscale\":[[0.0,\"#0d0887\"],[0.1111111111111111,\"#46039f\"],[0.2222222222222222,\"#7201a8\"],[0.3333333333333333,\"#9c179e\"],[0.4444444444444444,\"#bd3786\"],[0.5555555555555556,\"#d8576b\"],[0.6666666666666666,\"#ed7953\"],[0.7777777777777778,\"#fb9f3a\"],[0.8888888888888888,\"#fdca26\"],[1.0,\"#f0f921\"]]}],\"contourcarpet\":[{\"type\":\"contourcarpet\",\"colorbar\":{\"outlinewidth\":0,\"ticks\":\"\"}}],\"contour\":[{\"type\":\"contour\",\"colorbar\":{\"outlinewidth\":0,\"ticks\":\"\"},\"colorscale\":[[0.0,\"#0d0887\"],[0.1111111111111111,\"#46039f\"],[0.2222222222222222,\"#7201a8\"],[0.3333333333333333,\"#9c179e\"],[0.4444444444444444,\"#bd3786\"],[0.5555555555555556,\"#d8576b\"],[0.6666666666666666,\"#ed7953\"],[0.7777777777777778,\"#fb9f3a\"],[0.8888888888888888,\"#fdca26\"],[1.0,\"#f0f921\"]]}],\"surface\":[{\"type\":\"surface\",\"colorbar\":{\"outlinewidth\":0,\"ticks\":\"\"},\"colorscale\":[[0.0,\"#0d0887\"],[0.1111111111111111,\"#46039f\"],[0.2222222222222222,\"#7201a8\"],[0.3333333333333333,\"#9c179e\"],[0.4444444444444444,\"#bd3786\"],[0.5555555555555556,\"#d8576b\"],[0.6666666666666666,\"#ed7953\"],[0.7777777777777778,\"#fb9f3a\"],[0.8888888888888888,\"#fdca26\"],[1.0,\"#f0f921\"]]}],\"mesh3d\":[{\"type\":\"mesh3d\",\"colorbar\":{\"outlinewidth\":0,\"ticks\":\"\"}}],\"scatter\":[{\"fillpattern\":{\"fillmode\":\"overlay\",\"size\":10,\"solidity\":0.2},\"type\":\"scatter\"}],\"parcoords\":[{\"type\":\"parcoords\",\"line\":{\"colorbar\":{\"outlinewidth\":0,\"ticks\":\"\"}}}],\"scatterpolargl\":[{\"type\":\"scatterpolargl\",\"marker\":{\"colorbar\":{\"outlinewidth\":0,\"ticks\":\"\"}}}],\"bar\":[{\"error_x\":{\"color\":\"#2a3f5f\"},\"error_y\":{\"color\":\"#2a3f5f\"},\"marker\":{\"line\":{\"color\":\"#E5ECF6\",\"width\":0.5},\"pattern\":{\"fillmode\":\"overlay\",\"size\":10,\"solidity\":0.2}},\"type\":\"bar\"}],\"scattergeo\":[{\"type\":\"scattergeo\",\"marker\":{\"colorbar\":{\"outlinewidth\":0,\"ticks\":\"\"}}}],\"scatterpolar\":[{\"type\":\"scatterpolar\",\"marker\":{\"colorbar\":{\"outlinewidth\":0,\"ticks\":\"\"}}}],\"histogram\":[{\"marker\":{\"pattern\":{\"fillmode\":\"overlay\",\"size\":10,\"solidity\":0.2}},\"type\":\"histogram\"}],\"scattergl\":[{\"type\":\"scattergl\",\"marker\":{\"colorbar\":{\"outlinewidth\":0,\"ticks\":\"\"}}}],\"scatter3d\":[{\"type\":\"scatter3d\",\"line\":{\"colorbar\":{\"outlinewidth\":0,\"ticks\":\"\"}},\"marker\":{\"colorbar\":{\"outlinewidth\":0,\"ticks\":\"\"}}}],\"scattermapbox\":[{\"type\":\"scattermapbox\",\"marker\":{\"colorbar\":{\"outlinewidth\":0,\"ticks\":\"\"}}}],\"scatterternary\":[{\"type\":\"scatterternary\",\"marker\":{\"colorbar\":{\"outlinewidth\":0,\"ticks\":\"\"}}}],\"scattercarpet\":[{\"type\":\"scattercarpet\",\"marker\":{\"colorbar\":{\"outlinewidth\":0,\"ticks\":\"\"}}}],\"carpet\":[{\"aaxis\":{\"endlinecolor\":\"#2a3f5f\",\"gridcolor\":\"white\",\"linecolor\":\"white\",\"minorgridcolor\":\"white\",\"startlinecolor\":\"#2a3f5f\"},\"baxis\":{\"endlinecolor\":\"#2a3f5f\",\"gridcolor\":\"white\",\"linecolor\":\"white\",\"minorgridcolor\":\"white\",\"startlinecolor\":\"#2a3f5f\"},\"type\":\"carpet\"}],\"table\":[{\"cells\":{\"fill\":{\"color\":\"#EBF0F8\"},\"line\":{\"color\":\"white\"}},\"header\":{\"fill\":{\"color\":\"#C8D4E3\"},\"line\":{\"color\":\"white\"}},\"type\":\"table\"}],\"barpolar\":[{\"marker\":{\"line\":{\"color\":\"#E5ECF6\",\"width\":0.5},\"pattern\":{\"fillmode\":\"overlay\",\"size\":10,\"solidity\":0.2}},\"type\":\"barpolar\"}],\"pie\":[{\"automargin\":true,\"type\":\"pie\"}]},\"layout\":{\"autotypenumbers\":\"strict\",\"colorway\":[\"#636efa\",\"#EF553B\",\"#00cc96\",\"#ab63fa\",\"#FFA15A\",\"#19d3f3\",\"#FF6692\",\"#B6E880\",\"#FF97FF\",\"#FECB52\"],\"font\":{\"color\":\"#2a3f5f\"},\"hovermode\":\"closest\",\"hoverlabel\":{\"align\":\"left\"},\"paper_bgcolor\":\"white\",\"plot_bgcolor\":\"#E5ECF6\",\"polar\":{\"bgcolor\":\"#E5ECF6\",\"angularaxis\":{\"gridcolor\":\"white\",\"linecolor\":\"white\",\"ticks\":\"\"},\"radialaxis\":{\"gridcolor\":\"white\",\"linecolor\":\"white\",\"ticks\":\"\"}},\"ternary\":{\"bgcolor\":\"#E5ECF6\",\"aaxis\":{\"gridcolor\":\"white\",\"linecolor\":\"white\",\"ticks\":\"\"},\"baxis\":{\"gridcolor\":\"white\",\"linecolor\":\"white\",\"ticks\":\"\"},\"caxis\":{\"gridcolor\":\"white\",\"linecolor\":\"white\",\"ticks\":\"\"}},\"coloraxis\":{\"colorbar\":{\"outlinewidth\":0,\"ticks\":\"\"}},\"colorscale\":{\"sequential\":[[0.0,\"#0d0887\"],[0.1111111111111111,\"#46039f\"],[0.2222222222222222,\"#7201a8\"],[0.3333333333333333,\"#9c179e\"],[0.4444444444444444,\"#bd3786\"],[0.5555555555555556,\"#d8576b\"],[0.6666666666666666,\"#ed7953\"],[0.7777777777777778,\"#fb9f3a\"],[0.8888888888888888,\"#fdca26\"],[1.0,\"#f0f921\"]],\"sequentialminus\":[[0.0,\"#0d0887\"],[0.1111111111111111,\"#46039f\"],[0.2222222222222222,\"#7201a8\"],[0.3333333333333333,\"#9c179e\"],[0.4444444444444444,\"#bd3786\"],[0.5555555555555556,\"#d8576b\"],[0.6666666666666666,\"#ed7953\"],[0.7777777777777778,\"#fb9f3a\"],[0.8888888888888888,\"#fdca26\"],[1.0,\"#f0f921\"]],\"diverging\":[[0,\"#8e0152\"],[0.1,\"#c51b7d\"],[0.2,\"#de77ae\"],[0.3,\"#f1b6da\"],[0.4,\"#fde0ef\"],[0.5,\"#f7f7f7\"],[0.6,\"#e6f5d0\"],[0.7,\"#b8e186\"],[0.8,\"#7fbc41\"],[0.9,\"#4d9221\"],[1,\"#276419\"]]},\"xaxis\":{\"gridcolor\":\"white\",\"linecolor\":\"white\",\"ticks\":\"\",\"title\":{\"standoff\":15},\"zerolinecolor\":\"white\",\"automargin\":true,\"zerolinewidth\":2},\"yaxis\":{\"gridcolor\":\"white\",\"linecolor\":\"white\",\"ticks\":\"\",\"title\":{\"standoff\":15},\"zerolinecolor\":\"white\",\"automargin\":true,\"zerolinewidth\":2},\"scene\":{\"xaxis\":{\"backgroundcolor\":\"#E5ECF6\",\"gridcolor\":\"white\",\"linecolor\":\"white\",\"showbackground\":true,\"ticks\":\"\",\"zerolinecolor\":\"white\",\"gridwidth\":2},\"yaxis\":{\"backgroundcolor\":\"#E5ECF6\",\"gridcolor\":\"white\",\"linecolor\":\"white\",\"showbackground\":true,\"ticks\":\"\",\"zerolinecolor\":\"white\",\"gridwidth\":2},\"zaxis\":{\"backgroundcolor\":\"#E5ECF6\",\"gridcolor\":\"white\",\"linecolor\":\"white\",\"showbackground\":true,\"ticks\":\"\",\"zerolinecolor\":\"white\",\"gridwidth\":2}},\"shapedefaults\":{\"line\":{\"color\":\"#2a3f5f\"}},\"annotationdefaults\":{\"arrowcolor\":\"#2a3f5f\",\"arrowhead\":0,\"arrowwidth\":1},\"geo\":{\"bgcolor\":\"white\",\"landcolor\":\"#E5ECF6\",\"subunitcolor\":\"white\",\"showland\":true,\"showlakes\":true,\"lakecolor\":\"white\"},\"title\":{\"x\":0.05},\"mapbox\":{\"style\":\"light\"}}}},                        {\"responsive\": true}                    ).then(function(){\n",
       "                            \n",
       "var gd = document.getElementById('11f45d25-bbd4-4347-9b61-62cbefd48bc9');\n",
       "var x = new MutationObserver(function (mutations, observer) {{\n",
       "        var display = window.getComputedStyle(gd).display;\n",
       "        if (!display || display === 'none') {{\n",
       "            console.log([gd, 'removed!']);\n",
       "            Plotly.purge(gd);\n",
       "            observer.disconnect();\n",
       "        }}\n",
       "}});\n",
       "\n",
       "// Listen for the removal of the full notebook cells\n",
       "var notebookContainer = gd.closest('#notebook-container');\n",
       "if (notebookContainer) {{\n",
       "    x.observe(notebookContainer, {childList: true});\n",
       "}}\n",
       "\n",
       "// Listen for the clearing of the current output cell\n",
       "var outputEl = gd.closest('.output');\n",
       "if (outputEl) {{\n",
       "    x.observe(outputEl, {childList: true});\n",
       "}}\n",
       "\n",
       "                        })                };                });            </script>        </div>"
      ]
     },
     "metadata": {},
     "output_type": "display_data"
    }
   ],
   "source": [
    "#check whether optimization is moving in the right direction by display the number of trials on x-axis and the metrics on y_axis\n",
    "optuna.visualization.plot_optimization_history(study_optuna,\n",
    "                                               target_name='f1_score = micro')"
   ]
  },
  {
   "cell_type": "code",
   "execution_count": 27,
   "id": "d677d437",
   "metadata": {
    "execution": {
     "iopub.execute_input": "2024-07-24T22:37:20.626451Z",
     "iopub.status.busy": "2024-07-24T22:37:20.626076Z",
     "iopub.status.idle": "2024-07-24T22:37:21.191397Z",
     "shell.execute_reply": "2024-07-24T22:37:21.190276Z"
    },
    "papermill": {
     "duration": 0.59273,
     "end_time": "2024-07-24T22:37:21.194173",
     "exception": false,
     "start_time": "2024-07-24T22:37:20.601443",
     "status": "completed"
    },
    "tags": []
   },
   "outputs": [
    {
     "data": {
      "text/html": [
       "<div>                            <div id=\"7d352bd5-4160-41ac-bcf3-c703aba72548\" class=\"plotly-graph-div\" style=\"height:525px; width:100%;\"></div>            <script type=\"text/javascript\">                require([\"plotly\"], function(Plotly) {                    window.PLOTLYENV=window.PLOTLYENV || {};                                    if (document.getElementById(\"7d352bd5-4160-41ac-bcf3-c703aba72548\")) {                    Plotly.newPlot(                        \"7d352bd5-4160-41ac-bcf3-c703aba72548\",                        [{\"cliponaxis\":false,\"hovertemplate\":[\"criterion (CategoricalDistribution): 0.0008072647800572561\\u003cextra\\u003e\\u003c\\u002fextra\\u003e\",\"max_features (CategoricalDistribution): 0.07401098854648615\\u003cextra\\u003e\\u003c\\u002fextra\\u003e\",\"n_estimators (CategoricalDistribution): 0.17764150442460905\\u003cextra\\u003e\\u003c\\u002fextra\\u003e\",\"min_samples_leaf (CategoricalDistribution): 0.22476478864389945\\u003cextra\\u003e\\u003c\\u002fextra\\u003e\",\"max_depth (CategoricalDistribution): 0.5227754536049481\\u003cextra\\u003e\\u003c\\u002fextra\\u003e\"],\"name\":\"f1_score\",\"orientation\":\"h\",\"text\":[\"\\u003c0.01\",\"0.07\",\"0.18\",\"0.22\",\"0.52\"],\"textposition\":\"outside\",\"x\":[0.0008072647800572561,0.07401098854648615,0.17764150442460905,0.22476478864389945,0.5227754536049481],\"y\":[\"criterion\",\"max_features\",\"n_estimators\",\"min_samples_leaf\",\"max_depth\"],\"type\":\"bar\"}],                        {\"title\":{\"text\":\"Hyperparameter Importances\"},\"xaxis\":{\"title\":{\"text\":\"Hyperparameter Importance\"}},\"yaxis\":{\"title\":{\"text\":\"Hyperparameter\"}},\"template\":{\"data\":{\"histogram2dcontour\":[{\"type\":\"histogram2dcontour\",\"colorbar\":{\"outlinewidth\":0,\"ticks\":\"\"},\"colorscale\":[[0.0,\"#0d0887\"],[0.1111111111111111,\"#46039f\"],[0.2222222222222222,\"#7201a8\"],[0.3333333333333333,\"#9c179e\"],[0.4444444444444444,\"#bd3786\"],[0.5555555555555556,\"#d8576b\"],[0.6666666666666666,\"#ed7953\"],[0.7777777777777778,\"#fb9f3a\"],[0.8888888888888888,\"#fdca26\"],[1.0,\"#f0f921\"]]}],\"choropleth\":[{\"type\":\"choropleth\",\"colorbar\":{\"outlinewidth\":0,\"ticks\":\"\"}}],\"histogram2d\":[{\"type\":\"histogram2d\",\"colorbar\":{\"outlinewidth\":0,\"ticks\":\"\"},\"colorscale\":[[0.0,\"#0d0887\"],[0.1111111111111111,\"#46039f\"],[0.2222222222222222,\"#7201a8\"],[0.3333333333333333,\"#9c179e\"],[0.4444444444444444,\"#bd3786\"],[0.5555555555555556,\"#d8576b\"],[0.6666666666666666,\"#ed7953\"],[0.7777777777777778,\"#fb9f3a\"],[0.8888888888888888,\"#fdca26\"],[1.0,\"#f0f921\"]]}],\"heatmap\":[{\"type\":\"heatmap\",\"colorbar\":{\"outlinewidth\":0,\"ticks\":\"\"},\"colorscale\":[[0.0,\"#0d0887\"],[0.1111111111111111,\"#46039f\"],[0.2222222222222222,\"#7201a8\"],[0.3333333333333333,\"#9c179e\"],[0.4444444444444444,\"#bd3786\"],[0.5555555555555556,\"#d8576b\"],[0.6666666666666666,\"#ed7953\"],[0.7777777777777778,\"#fb9f3a\"],[0.8888888888888888,\"#fdca26\"],[1.0,\"#f0f921\"]]}],\"heatmapgl\":[{\"type\":\"heatmapgl\",\"colorbar\":{\"outlinewidth\":0,\"ticks\":\"\"},\"colorscale\":[[0.0,\"#0d0887\"],[0.1111111111111111,\"#46039f\"],[0.2222222222222222,\"#7201a8\"],[0.3333333333333333,\"#9c179e\"],[0.4444444444444444,\"#bd3786\"],[0.5555555555555556,\"#d8576b\"],[0.6666666666666666,\"#ed7953\"],[0.7777777777777778,\"#fb9f3a\"],[0.8888888888888888,\"#fdca26\"],[1.0,\"#f0f921\"]]}],\"contourcarpet\":[{\"type\":\"contourcarpet\",\"colorbar\":{\"outlinewidth\":0,\"ticks\":\"\"}}],\"contour\":[{\"type\":\"contour\",\"colorbar\":{\"outlinewidth\":0,\"ticks\":\"\"},\"colorscale\":[[0.0,\"#0d0887\"],[0.1111111111111111,\"#46039f\"],[0.2222222222222222,\"#7201a8\"],[0.3333333333333333,\"#9c179e\"],[0.4444444444444444,\"#bd3786\"],[0.5555555555555556,\"#d8576b\"],[0.6666666666666666,\"#ed7953\"],[0.7777777777777778,\"#fb9f3a\"],[0.8888888888888888,\"#fdca26\"],[1.0,\"#f0f921\"]]}],\"surface\":[{\"type\":\"surface\",\"colorbar\":{\"outlinewidth\":0,\"ticks\":\"\"},\"colorscale\":[[0.0,\"#0d0887\"],[0.1111111111111111,\"#46039f\"],[0.2222222222222222,\"#7201a8\"],[0.3333333333333333,\"#9c179e\"],[0.4444444444444444,\"#bd3786\"],[0.5555555555555556,\"#d8576b\"],[0.6666666666666666,\"#ed7953\"],[0.7777777777777778,\"#fb9f3a\"],[0.8888888888888888,\"#fdca26\"],[1.0,\"#f0f921\"]]}],\"mesh3d\":[{\"type\":\"mesh3d\",\"colorbar\":{\"outlinewidth\":0,\"ticks\":\"\"}}],\"scatter\":[{\"fillpattern\":{\"fillmode\":\"overlay\",\"size\":10,\"solidity\":0.2},\"type\":\"scatter\"}],\"parcoords\":[{\"type\":\"parcoords\",\"line\":{\"colorbar\":{\"outlinewidth\":0,\"ticks\":\"\"}}}],\"scatterpolargl\":[{\"type\":\"scatterpolargl\",\"marker\":{\"colorbar\":{\"outlinewidth\":0,\"ticks\":\"\"}}}],\"bar\":[{\"error_x\":{\"color\":\"#2a3f5f\"},\"error_y\":{\"color\":\"#2a3f5f\"},\"marker\":{\"line\":{\"color\":\"#E5ECF6\",\"width\":0.5},\"pattern\":{\"fillmode\":\"overlay\",\"size\":10,\"solidity\":0.2}},\"type\":\"bar\"}],\"scattergeo\":[{\"type\":\"scattergeo\",\"marker\":{\"colorbar\":{\"outlinewidth\":0,\"ticks\":\"\"}}}],\"scatterpolar\":[{\"type\":\"scatterpolar\",\"marker\":{\"colorbar\":{\"outlinewidth\":0,\"ticks\":\"\"}}}],\"histogram\":[{\"marker\":{\"pattern\":{\"fillmode\":\"overlay\",\"size\":10,\"solidity\":0.2}},\"type\":\"histogram\"}],\"scattergl\":[{\"type\":\"scattergl\",\"marker\":{\"colorbar\":{\"outlinewidth\":0,\"ticks\":\"\"}}}],\"scatter3d\":[{\"type\":\"scatter3d\",\"line\":{\"colorbar\":{\"outlinewidth\":0,\"ticks\":\"\"}},\"marker\":{\"colorbar\":{\"outlinewidth\":0,\"ticks\":\"\"}}}],\"scattermapbox\":[{\"type\":\"scattermapbox\",\"marker\":{\"colorbar\":{\"outlinewidth\":0,\"ticks\":\"\"}}}],\"scatterternary\":[{\"type\":\"scatterternary\",\"marker\":{\"colorbar\":{\"outlinewidth\":0,\"ticks\":\"\"}}}],\"scattercarpet\":[{\"type\":\"scattercarpet\",\"marker\":{\"colorbar\":{\"outlinewidth\":0,\"ticks\":\"\"}}}],\"carpet\":[{\"aaxis\":{\"endlinecolor\":\"#2a3f5f\",\"gridcolor\":\"white\",\"linecolor\":\"white\",\"minorgridcolor\":\"white\",\"startlinecolor\":\"#2a3f5f\"},\"baxis\":{\"endlinecolor\":\"#2a3f5f\",\"gridcolor\":\"white\",\"linecolor\":\"white\",\"minorgridcolor\":\"white\",\"startlinecolor\":\"#2a3f5f\"},\"type\":\"carpet\"}],\"table\":[{\"cells\":{\"fill\":{\"color\":\"#EBF0F8\"},\"line\":{\"color\":\"white\"}},\"header\":{\"fill\":{\"color\":\"#C8D4E3\"},\"line\":{\"color\":\"white\"}},\"type\":\"table\"}],\"barpolar\":[{\"marker\":{\"line\":{\"color\":\"#E5ECF6\",\"width\":0.5},\"pattern\":{\"fillmode\":\"overlay\",\"size\":10,\"solidity\":0.2}},\"type\":\"barpolar\"}],\"pie\":[{\"automargin\":true,\"type\":\"pie\"}]},\"layout\":{\"autotypenumbers\":\"strict\",\"colorway\":[\"#636efa\",\"#EF553B\",\"#00cc96\",\"#ab63fa\",\"#FFA15A\",\"#19d3f3\",\"#FF6692\",\"#B6E880\",\"#FF97FF\",\"#FECB52\"],\"font\":{\"color\":\"#2a3f5f\"},\"hovermode\":\"closest\",\"hoverlabel\":{\"align\":\"left\"},\"paper_bgcolor\":\"white\",\"plot_bgcolor\":\"#E5ECF6\",\"polar\":{\"bgcolor\":\"#E5ECF6\",\"angularaxis\":{\"gridcolor\":\"white\",\"linecolor\":\"white\",\"ticks\":\"\"},\"radialaxis\":{\"gridcolor\":\"white\",\"linecolor\":\"white\",\"ticks\":\"\"}},\"ternary\":{\"bgcolor\":\"#E5ECF6\",\"aaxis\":{\"gridcolor\":\"white\",\"linecolor\":\"white\",\"ticks\":\"\"},\"baxis\":{\"gridcolor\":\"white\",\"linecolor\":\"white\",\"ticks\":\"\"},\"caxis\":{\"gridcolor\":\"white\",\"linecolor\":\"white\",\"ticks\":\"\"}},\"coloraxis\":{\"colorbar\":{\"outlinewidth\":0,\"ticks\":\"\"}},\"colorscale\":{\"sequential\":[[0.0,\"#0d0887\"],[0.1111111111111111,\"#46039f\"],[0.2222222222222222,\"#7201a8\"],[0.3333333333333333,\"#9c179e\"],[0.4444444444444444,\"#bd3786\"],[0.5555555555555556,\"#d8576b\"],[0.6666666666666666,\"#ed7953\"],[0.7777777777777778,\"#fb9f3a\"],[0.8888888888888888,\"#fdca26\"],[1.0,\"#f0f921\"]],\"sequentialminus\":[[0.0,\"#0d0887\"],[0.1111111111111111,\"#46039f\"],[0.2222222222222222,\"#7201a8\"],[0.3333333333333333,\"#9c179e\"],[0.4444444444444444,\"#bd3786\"],[0.5555555555555556,\"#d8576b\"],[0.6666666666666666,\"#ed7953\"],[0.7777777777777778,\"#fb9f3a\"],[0.8888888888888888,\"#fdca26\"],[1.0,\"#f0f921\"]],\"diverging\":[[0,\"#8e0152\"],[0.1,\"#c51b7d\"],[0.2,\"#de77ae\"],[0.3,\"#f1b6da\"],[0.4,\"#fde0ef\"],[0.5,\"#f7f7f7\"],[0.6,\"#e6f5d0\"],[0.7,\"#b8e186\"],[0.8,\"#7fbc41\"],[0.9,\"#4d9221\"],[1,\"#276419\"]]},\"xaxis\":{\"gridcolor\":\"white\",\"linecolor\":\"white\",\"ticks\":\"\",\"title\":{\"standoff\":15},\"zerolinecolor\":\"white\",\"automargin\":true,\"zerolinewidth\":2},\"yaxis\":{\"gridcolor\":\"white\",\"linecolor\":\"white\",\"ticks\":\"\",\"title\":{\"standoff\":15},\"zerolinecolor\":\"white\",\"automargin\":true,\"zerolinewidth\":2},\"scene\":{\"xaxis\":{\"backgroundcolor\":\"#E5ECF6\",\"gridcolor\":\"white\",\"linecolor\":\"white\",\"showbackground\":true,\"ticks\":\"\",\"zerolinecolor\":\"white\",\"gridwidth\":2},\"yaxis\":{\"backgroundcolor\":\"#E5ECF6\",\"gridcolor\":\"white\",\"linecolor\":\"white\",\"showbackground\":true,\"ticks\":\"\",\"zerolinecolor\":\"white\",\"gridwidth\":2},\"zaxis\":{\"backgroundcolor\":\"#E5ECF6\",\"gridcolor\":\"white\",\"linecolor\":\"white\",\"showbackground\":true,\"ticks\":\"\",\"zerolinecolor\":\"white\",\"gridwidth\":2}},\"shapedefaults\":{\"line\":{\"color\":\"#2a3f5f\"}},\"annotationdefaults\":{\"arrowcolor\":\"#2a3f5f\",\"arrowhead\":0,\"arrowwidth\":1},\"geo\":{\"bgcolor\":\"white\",\"landcolor\":\"#E5ECF6\",\"subunitcolor\":\"white\",\"showland\":true,\"showlakes\":true,\"lakecolor\":\"white\"},\"title\":{\"x\":0.05},\"mapbox\":{\"style\":\"light\"}}}},                        {\"responsive\": true}                    ).then(function(){\n",
       "                            \n",
       "var gd = document.getElementById('7d352bd5-4160-41ac-bcf3-c703aba72548');\n",
       "var x = new MutationObserver(function (mutations, observer) {{\n",
       "        var display = window.getComputedStyle(gd).display;\n",
       "        if (!display || display === 'none') {{\n",
       "            console.log([gd, 'removed!']);\n",
       "            Plotly.purge(gd);\n",
       "            observer.disconnect();\n",
       "        }}\n",
       "}});\n",
       "\n",
       "// Listen for the removal of the full notebook cells\n",
       "var notebookContainer = gd.closest('#notebook-container');\n",
       "if (notebookContainer) {{\n",
       "    x.observe(notebookContainer, {childList: true});\n",
       "}}\n",
       "\n",
       "// Listen for the clearing of the current output cell\n",
       "var outputEl = gd.closest('.output');\n",
       "if (outputEl) {{\n",
       "    x.observe(outputEl, {childList: true});\n",
       "}}\n",
       "\n",
       "                        })                };                });            </script>        </div>"
      ]
     },
     "metadata": {},
     "output_type": "display_data"
    }
   ],
   "source": [
    "#find which hyperparameters contribute the most to the maximization of the metric \n",
    "optuna.visualization.plot_param_importances(study_optuna,\n",
    "                                            target_name='f1_score')"
   ]
  },
  {
   "cell_type": "code",
   "execution_count": 28,
   "id": "0edc0daf",
   "metadata": {
    "execution": {
     "iopub.execute_input": "2024-07-24T22:37:21.242112Z",
     "iopub.status.busy": "2024-07-24T22:37:21.241699Z",
     "iopub.status.idle": "2024-07-24T22:37:21.340517Z",
     "shell.execute_reply": "2024-07-24T22:37:21.339368Z"
    },
    "papermill": {
     "duration": 0.125817,
     "end_time": "2024-07-24T22:37:21.343070",
     "exception": false,
     "start_time": "2024-07-24T22:37:21.217253",
     "status": "completed"
    },
    "tags": []
   },
   "outputs": [
    {
     "data": {
      "text/html": [
       "<div>                            <div id=\"ee29e066-d115-437e-a571-c16205bbe0ac\" class=\"plotly-graph-div\" style=\"height:525px; width:100%;\"></div>            <script type=\"text/javascript\">                require([\"plotly\"], function(Plotly) {                    window.PLOTLYENV=window.PLOTLYENV || {};                                    if (document.getElementById(\"ee29e066-d115-437e-a571-c16205bbe0ac\")) {                    Plotly.newPlot(                        \"ee29e066-d115-437e-a571-c16205bbe0ac\",                        [{\"colorbar\":{\"title\":{\"text\":\"f1_score\"}},\"colorscale\":[[0.0,\"rgb(247,251,255)\"],[0.125,\"rgb(222,235,247)\"],[0.25,\"rgb(198,219,239)\"],[0.375,\"rgb(158,202,225)\"],[0.5,\"rgb(107,174,214)\"],[0.625,\"rgb(66,146,198)\"],[0.75,\"rgb(33,113,181)\"],[0.875,\"rgb(8,81,156)\"],[1.0,\"rgb(8,48,107)\"]],\"connectgaps\":true,\"contours\":{\"coloring\":\"heatmap\"},\"hoverinfo\":\"none\",\"line\":{\"smoothing\":1.3},\"reversescale\":false,\"x\":[2.15,3,5,7,10,15,20,20.85],\"y\":[\"None\",\"log2\",\"sqrt\"],\"z\":[[null,null,null,null,0.7519814241486068,null,0.7084520123839009,null],[null,0.6698452012383902,null,0.7874922600619195,0.7914241486068111,0.7678018575851393,null,null],[null,0.6762848297213623,0.7602476780185758,0.7897213622291022,0.7891640866873064,null,null,null]],\"type\":\"contour\"},{\"marker\":{\"color\":\"black\",\"line\":{\"color\":\"Gray\",\"width\":2.0}},\"mode\":\"markers\",\"name\":\"Feasible Trial\",\"showlegend\":false,\"x\":[10,15,20,10,10,3,7,10,7,20,5,7,7,5,15,3,7,10,10,7],\"y\":[\"None\",\"log2\",\"None\",\"None\",\"None\",\"log2\",\"log2\",\"log2\",\"sqrt\",\"None\",\"sqrt\",\"sqrt\",\"sqrt\",\"sqrt\",\"log2\",\"sqrt\",\"log2\",\"sqrt\",\"log2\",\"log2\"],\"type\":\"scatter\"},{\"marker\":{\"color\":\"#cccccc\",\"line\":{\"color\":\"Gray\",\"width\":2.0}},\"mode\":\"markers\",\"name\":\"Infeasible Trial\",\"showlegend\":false,\"x\":[],\"y\":[],\"type\":\"scatter\"}],                        {\"title\":{\"text\":\"Contour Plot\"},\"template\":{\"data\":{\"histogram2dcontour\":[{\"type\":\"histogram2dcontour\",\"colorbar\":{\"outlinewidth\":0,\"ticks\":\"\"},\"colorscale\":[[0.0,\"#0d0887\"],[0.1111111111111111,\"#46039f\"],[0.2222222222222222,\"#7201a8\"],[0.3333333333333333,\"#9c179e\"],[0.4444444444444444,\"#bd3786\"],[0.5555555555555556,\"#d8576b\"],[0.6666666666666666,\"#ed7953\"],[0.7777777777777778,\"#fb9f3a\"],[0.8888888888888888,\"#fdca26\"],[1.0,\"#f0f921\"]]}],\"choropleth\":[{\"type\":\"choropleth\",\"colorbar\":{\"outlinewidth\":0,\"ticks\":\"\"}}],\"histogram2d\":[{\"type\":\"histogram2d\",\"colorbar\":{\"outlinewidth\":0,\"ticks\":\"\"},\"colorscale\":[[0.0,\"#0d0887\"],[0.1111111111111111,\"#46039f\"],[0.2222222222222222,\"#7201a8\"],[0.3333333333333333,\"#9c179e\"],[0.4444444444444444,\"#bd3786\"],[0.5555555555555556,\"#d8576b\"],[0.6666666666666666,\"#ed7953\"],[0.7777777777777778,\"#fb9f3a\"],[0.8888888888888888,\"#fdca26\"],[1.0,\"#f0f921\"]]}],\"heatmap\":[{\"type\":\"heatmap\",\"colorbar\":{\"outlinewidth\":0,\"ticks\":\"\"},\"colorscale\":[[0.0,\"#0d0887\"],[0.1111111111111111,\"#46039f\"],[0.2222222222222222,\"#7201a8\"],[0.3333333333333333,\"#9c179e\"],[0.4444444444444444,\"#bd3786\"],[0.5555555555555556,\"#d8576b\"],[0.6666666666666666,\"#ed7953\"],[0.7777777777777778,\"#fb9f3a\"],[0.8888888888888888,\"#fdca26\"],[1.0,\"#f0f921\"]]}],\"heatmapgl\":[{\"type\":\"heatmapgl\",\"colorbar\":{\"outlinewidth\":0,\"ticks\":\"\"},\"colorscale\":[[0.0,\"#0d0887\"],[0.1111111111111111,\"#46039f\"],[0.2222222222222222,\"#7201a8\"],[0.3333333333333333,\"#9c179e\"],[0.4444444444444444,\"#bd3786\"],[0.5555555555555556,\"#d8576b\"],[0.6666666666666666,\"#ed7953\"],[0.7777777777777778,\"#fb9f3a\"],[0.8888888888888888,\"#fdca26\"],[1.0,\"#f0f921\"]]}],\"contourcarpet\":[{\"type\":\"contourcarpet\",\"colorbar\":{\"outlinewidth\":0,\"ticks\":\"\"}}],\"contour\":[{\"type\":\"contour\",\"colorbar\":{\"outlinewidth\":0,\"ticks\":\"\"},\"colorscale\":[[0.0,\"#0d0887\"],[0.1111111111111111,\"#46039f\"],[0.2222222222222222,\"#7201a8\"],[0.3333333333333333,\"#9c179e\"],[0.4444444444444444,\"#bd3786\"],[0.5555555555555556,\"#d8576b\"],[0.6666666666666666,\"#ed7953\"],[0.7777777777777778,\"#fb9f3a\"],[0.8888888888888888,\"#fdca26\"],[1.0,\"#f0f921\"]]}],\"surface\":[{\"type\":\"surface\",\"colorbar\":{\"outlinewidth\":0,\"ticks\":\"\"},\"colorscale\":[[0.0,\"#0d0887\"],[0.1111111111111111,\"#46039f\"],[0.2222222222222222,\"#7201a8\"],[0.3333333333333333,\"#9c179e\"],[0.4444444444444444,\"#bd3786\"],[0.5555555555555556,\"#d8576b\"],[0.6666666666666666,\"#ed7953\"],[0.7777777777777778,\"#fb9f3a\"],[0.8888888888888888,\"#fdca26\"],[1.0,\"#f0f921\"]]}],\"mesh3d\":[{\"type\":\"mesh3d\",\"colorbar\":{\"outlinewidth\":0,\"ticks\":\"\"}}],\"scatter\":[{\"fillpattern\":{\"fillmode\":\"overlay\",\"size\":10,\"solidity\":0.2},\"type\":\"scatter\"}],\"parcoords\":[{\"type\":\"parcoords\",\"line\":{\"colorbar\":{\"outlinewidth\":0,\"ticks\":\"\"}}}],\"scatterpolargl\":[{\"type\":\"scatterpolargl\",\"marker\":{\"colorbar\":{\"outlinewidth\":0,\"ticks\":\"\"}}}],\"bar\":[{\"error_x\":{\"color\":\"#2a3f5f\"},\"error_y\":{\"color\":\"#2a3f5f\"},\"marker\":{\"line\":{\"color\":\"#E5ECF6\",\"width\":0.5},\"pattern\":{\"fillmode\":\"overlay\",\"size\":10,\"solidity\":0.2}},\"type\":\"bar\"}],\"scattergeo\":[{\"type\":\"scattergeo\",\"marker\":{\"colorbar\":{\"outlinewidth\":0,\"ticks\":\"\"}}}],\"scatterpolar\":[{\"type\":\"scatterpolar\",\"marker\":{\"colorbar\":{\"outlinewidth\":0,\"ticks\":\"\"}}}],\"histogram\":[{\"marker\":{\"pattern\":{\"fillmode\":\"overlay\",\"size\":10,\"solidity\":0.2}},\"type\":\"histogram\"}],\"scattergl\":[{\"type\":\"scattergl\",\"marker\":{\"colorbar\":{\"outlinewidth\":0,\"ticks\":\"\"}}}],\"scatter3d\":[{\"type\":\"scatter3d\",\"line\":{\"colorbar\":{\"outlinewidth\":0,\"ticks\":\"\"}},\"marker\":{\"colorbar\":{\"outlinewidth\":0,\"ticks\":\"\"}}}],\"scattermapbox\":[{\"type\":\"scattermapbox\",\"marker\":{\"colorbar\":{\"outlinewidth\":0,\"ticks\":\"\"}}}],\"scatterternary\":[{\"type\":\"scatterternary\",\"marker\":{\"colorbar\":{\"outlinewidth\":0,\"ticks\":\"\"}}}],\"scattercarpet\":[{\"type\":\"scattercarpet\",\"marker\":{\"colorbar\":{\"outlinewidth\":0,\"ticks\":\"\"}}}],\"carpet\":[{\"aaxis\":{\"endlinecolor\":\"#2a3f5f\",\"gridcolor\":\"white\",\"linecolor\":\"white\",\"minorgridcolor\":\"white\",\"startlinecolor\":\"#2a3f5f\"},\"baxis\":{\"endlinecolor\":\"#2a3f5f\",\"gridcolor\":\"white\",\"linecolor\":\"white\",\"minorgridcolor\":\"white\",\"startlinecolor\":\"#2a3f5f\"},\"type\":\"carpet\"}],\"table\":[{\"cells\":{\"fill\":{\"color\":\"#EBF0F8\"},\"line\":{\"color\":\"white\"}},\"header\":{\"fill\":{\"color\":\"#C8D4E3\"},\"line\":{\"color\":\"white\"}},\"type\":\"table\"}],\"barpolar\":[{\"marker\":{\"line\":{\"color\":\"#E5ECF6\",\"width\":0.5},\"pattern\":{\"fillmode\":\"overlay\",\"size\":10,\"solidity\":0.2}},\"type\":\"barpolar\"}],\"pie\":[{\"automargin\":true,\"type\":\"pie\"}]},\"layout\":{\"autotypenumbers\":\"strict\",\"colorway\":[\"#636efa\",\"#EF553B\",\"#00cc96\",\"#ab63fa\",\"#FFA15A\",\"#19d3f3\",\"#FF6692\",\"#B6E880\",\"#FF97FF\",\"#FECB52\"],\"font\":{\"color\":\"#2a3f5f\"},\"hovermode\":\"closest\",\"hoverlabel\":{\"align\":\"left\"},\"paper_bgcolor\":\"white\",\"plot_bgcolor\":\"#E5ECF6\",\"polar\":{\"bgcolor\":\"#E5ECF6\",\"angularaxis\":{\"gridcolor\":\"white\",\"linecolor\":\"white\",\"ticks\":\"\"},\"radialaxis\":{\"gridcolor\":\"white\",\"linecolor\":\"white\",\"ticks\":\"\"}},\"ternary\":{\"bgcolor\":\"#E5ECF6\",\"aaxis\":{\"gridcolor\":\"white\",\"linecolor\":\"white\",\"ticks\":\"\"},\"baxis\":{\"gridcolor\":\"white\",\"linecolor\":\"white\",\"ticks\":\"\"},\"caxis\":{\"gridcolor\":\"white\",\"linecolor\":\"white\",\"ticks\":\"\"}},\"coloraxis\":{\"colorbar\":{\"outlinewidth\":0,\"ticks\":\"\"}},\"colorscale\":{\"sequential\":[[0.0,\"#0d0887\"],[0.1111111111111111,\"#46039f\"],[0.2222222222222222,\"#7201a8\"],[0.3333333333333333,\"#9c179e\"],[0.4444444444444444,\"#bd3786\"],[0.5555555555555556,\"#d8576b\"],[0.6666666666666666,\"#ed7953\"],[0.7777777777777778,\"#fb9f3a\"],[0.8888888888888888,\"#fdca26\"],[1.0,\"#f0f921\"]],\"sequentialminus\":[[0.0,\"#0d0887\"],[0.1111111111111111,\"#46039f\"],[0.2222222222222222,\"#7201a8\"],[0.3333333333333333,\"#9c179e\"],[0.4444444444444444,\"#bd3786\"],[0.5555555555555556,\"#d8576b\"],[0.6666666666666666,\"#ed7953\"],[0.7777777777777778,\"#fb9f3a\"],[0.8888888888888888,\"#fdca26\"],[1.0,\"#f0f921\"]],\"diverging\":[[0,\"#8e0152\"],[0.1,\"#c51b7d\"],[0.2,\"#de77ae\"],[0.3,\"#f1b6da\"],[0.4,\"#fde0ef\"],[0.5,\"#f7f7f7\"],[0.6,\"#e6f5d0\"],[0.7,\"#b8e186\"],[0.8,\"#7fbc41\"],[0.9,\"#4d9221\"],[1,\"#276419\"]]},\"xaxis\":{\"gridcolor\":\"white\",\"linecolor\":\"white\",\"ticks\":\"\",\"title\":{\"standoff\":15},\"zerolinecolor\":\"white\",\"automargin\":true,\"zerolinewidth\":2},\"yaxis\":{\"gridcolor\":\"white\",\"linecolor\":\"white\",\"ticks\":\"\",\"title\":{\"standoff\":15},\"zerolinecolor\":\"white\",\"automargin\":true,\"zerolinewidth\":2},\"scene\":{\"xaxis\":{\"backgroundcolor\":\"#E5ECF6\",\"gridcolor\":\"white\",\"linecolor\":\"white\",\"showbackground\":true,\"ticks\":\"\",\"zerolinecolor\":\"white\",\"gridwidth\":2},\"yaxis\":{\"backgroundcolor\":\"#E5ECF6\",\"gridcolor\":\"white\",\"linecolor\":\"white\",\"showbackground\":true,\"ticks\":\"\",\"zerolinecolor\":\"white\",\"gridwidth\":2},\"zaxis\":{\"backgroundcolor\":\"#E5ECF6\",\"gridcolor\":\"white\",\"linecolor\":\"white\",\"showbackground\":true,\"ticks\":\"\",\"zerolinecolor\":\"white\",\"gridwidth\":2}},\"shapedefaults\":{\"line\":{\"color\":\"#2a3f5f\"}},\"annotationdefaults\":{\"arrowcolor\":\"#2a3f5f\",\"arrowhead\":0,\"arrowwidth\":1},\"geo\":{\"bgcolor\":\"white\",\"landcolor\":\"#E5ECF6\",\"subunitcolor\":\"white\",\"showland\":true,\"showlakes\":true,\"lakecolor\":\"white\"},\"title\":{\"x\":0.05},\"mapbox\":{\"style\":\"light\"}}},\"xaxis\":{\"title\":{\"text\":\"max_depth\"},\"range\":[2.15,20.85]},\"yaxis\":{\"title\":{\"text\":\"max_features\"},\"range\":[-0.1,2.1],\"type\":\"category\"}},                        {\"responsive\": true}                    ).then(function(){\n",
       "                            \n",
       "var gd = document.getElementById('ee29e066-d115-437e-a571-c16205bbe0ac');\n",
       "var x = new MutationObserver(function (mutations, observer) {{\n",
       "        var display = window.getComputedStyle(gd).display;\n",
       "        if (!display || display === 'none') {{\n",
       "            console.log([gd, 'removed!']);\n",
       "            Plotly.purge(gd);\n",
       "            observer.disconnect();\n",
       "        }}\n",
       "}});\n",
       "\n",
       "// Listen for the removal of the full notebook cells\n",
       "var notebookContainer = gd.closest('#notebook-container');\n",
       "if (notebookContainer) {{\n",
       "    x.observe(notebookContainer, {childList: true});\n",
       "}}\n",
       "\n",
       "// Listen for the clearing of the current output cell\n",
       "var outputEl = gd.closest('.output');\n",
       "if (outputEl) {{\n",
       "    x.observe(outputEl, {childList: true});\n",
       "}}\n",
       "\n",
       "                        })                };                });            </script>        </div>"
      ]
     },
     "metadata": {},
     "output_type": "display_data"
    }
   ],
   "source": [
    "#highlight the relationship between different hyperparameter combinations and the metric value for these combinations\n",
    "optuna.visualization.plot_contour(study_optuna,\n",
    "                                  params=['max_depth', 'max_features'],\n",
    "                                  target_name='f1_score')"
   ]
  },
  {
   "cell_type": "markdown",
   "id": "491c536a",
   "metadata": {
    "papermill": {
     "duration": 0.023701,
     "end_time": "2024-07-24T22:37:21.390192",
     "exception": false,
     "start_time": "2024-07-24T22:37:21.366491",
     "status": "completed"
    },
    "tags": []
   },
   "source": [
    "#### Model Learning with Gradient Boosting"
   ]
  },
  {
   "cell_type": "code",
   "execution_count": 29,
   "id": "1a480b6a",
   "metadata": {
    "execution": {
     "iopub.execute_input": "2024-07-24T22:37:21.439751Z",
     "iopub.status.busy": "2024-07-24T22:37:21.438727Z",
     "iopub.status.idle": "2024-07-24T22:37:21.447746Z",
     "shell.execute_reply": "2024-07-24T22:37:21.446586Z"
    },
    "papermill": {
     "duration": 0.036542,
     "end_time": "2024-07-24T22:37:21.450274",
     "exception": false,
     "start_time": "2024-07-24T22:37:21.413732",
     "status": "completed"
    },
    "tags": []
   },
   "outputs": [],
   "source": [
    "#use the Optuna method to look for best hyper parameters\n",
    "def optuna_gb(trial):\n",
    "  #set hyperparameters\n",
    "  params = {\n",
    "    \"n_estimators\": trial.suggest_categorical('n_estimators', [100, 150, 200]),\n",
    "    \"learning_rate\": trial.suggest_categorical('learning_rate', [0.001, 0.01, 0.1, 0.2]),    \n",
    "    \"max_depth\": trial.suggest_categorical('max_depth', [3, 5, 7]),\n",
    "    \"max_features\": trial.suggest_categorical('max_features', ['sqrt', 'log2']),\n",
    "    \"min_samples_leaf\": trial.suggest_categorical('min_samples_leaf', [2, 3, 4, 5]),\n",
    "    \"loss\" : \"log_loss\",\n",
    "    \"random_state\": 42,\n",
    "    }\n",
    "\n",
    "  #use the combinations for model build\n",
    "  model = ensemble.GradientBoostingClassifier(**params)\n",
    "  \n",
    "  #model learning through cross-validation\n",
    "  score = model_selection.cross_val_score(\n",
    "    model,\n",
    "    X=X_train_scaled,\n",
    "    y=y_train,\n",
    "    cv=5,\n",
    "    scoring='f1_micro',\n",
    "    n_jobs=-1).mean()\n",
    "\n",
    "  return score"
   ]
  },
  {
   "cell_type": "code",
   "execution_count": 30,
   "id": "55b88328",
   "metadata": {
    "execution": {
     "iopub.execute_input": "2024-07-24T22:37:21.499676Z",
     "iopub.status.busy": "2024-07-24T22:37:21.498822Z",
     "iopub.status.idle": "2024-07-24T23:35:53.622038Z",
     "shell.execute_reply": "2024-07-24T23:35:53.620812Z"
    },
    "papermill": {
     "duration": 3512.175845,
     "end_time": "2024-07-24T23:35:53.649749",
     "exception": false,
     "start_time": "2024-07-24T22:37:21.473904",
     "status": "completed"
    },
    "tags": []
   },
   "outputs": [
    {
     "name": "stderr",
     "output_type": "stream",
     "text": [
      "[I 2024-07-24 22:37:21,502] A new study created in memory with name: GradientBoostingClassifier\n",
      "[I 2024-07-24 22:39:49,735] Trial 0 finished with value: 0.7452012383900929 and parameters: {'n_estimators': 200, 'learning_rate': 0.1, 'max_depth': 3, 'max_features': 'log2', 'min_samples_leaf': 2}. Best is trial 0 with value: 0.7452012383900929.\n",
      "[I 2024-07-24 22:41:54,188] Trial 1 finished with value: 0.7451083591331269 and parameters: {'n_estimators': 150, 'learning_rate': 0.01, 'max_depth': 3, 'max_features': 'sqrt', 'min_samples_leaf': 4}. Best is trial 0 with value: 0.7452012383900929.\n",
      "[I 2024-07-24 22:44:43,916] Trial 2 finished with value: 0.5557275541795665 and parameters: {'n_estimators': 100, 'learning_rate': 0.001, 'max_depth': 7, 'max_features': 'sqrt', 'min_samples_leaf': 5}. Best is trial 0 with value: 0.7452012383900929.\n",
      "[I 2024-07-24 22:47:51,089] Trial 3 finished with value: 0.5557275541795665 and parameters: {'n_estimators': 150, 'learning_rate': 0.001, 'max_depth': 5, 'max_features': 'sqrt', 'min_samples_leaf': 4}. Best is trial 0 with value: 0.7452012383900929.\n",
      "[I 2024-07-24 22:51:31,814] Trial 4 finished with value: 0.7319814241486068 and parameters: {'n_estimators': 150, 'learning_rate': 0.2, 'max_depth': 7, 'max_features': 'log2', 'min_samples_leaf': 5}. Best is trial 0 with value: 0.7452012383900929.\n",
      "[I 2024-07-24 22:53:59,304] Trial 5 finished with value: 0.5557275541795665 and parameters: {'n_estimators': 200, 'learning_rate': 0.001, 'max_depth': 3, 'max_features': 'log2', 'min_samples_leaf': 5}. Best is trial 0 with value: 0.7452012383900929.\n",
      "[I 2024-07-24 22:55:51,839] Trial 6 finished with value: 0.7440557275541795 and parameters: {'n_estimators': 150, 'learning_rate': 0.01, 'max_depth': 3, 'max_features': 'log2', 'min_samples_leaf': 5}. Best is trial 0 with value: 0.7452012383900929.\n",
      "[I 2024-07-24 23:00:46,830] Trial 7 finished with value: 0.7357585139318885 and parameters: {'n_estimators': 200, 'learning_rate': 0.2, 'max_depth': 7, 'max_features': 'log2', 'min_samples_leaf': 4}. Best is trial 0 with value: 0.7452012383900929.\n",
      "[I 2024-07-24 23:03:34,373] Trial 8 finished with value: 0.761455108359133 and parameters: {'n_estimators': 200, 'learning_rate': 0.01, 'max_depth': 3, 'max_features': 'sqrt', 'min_samples_leaf': 2}. Best is trial 8 with value: 0.761455108359133.\n",
      "[I 2024-07-24 23:05:23,694] Trial 9 finished with value: 0.5557275541795665 and parameters: {'n_estimators': 100, 'learning_rate': 0.001, 'max_depth': 5, 'max_features': 'log2', 'min_samples_leaf': 5}. Best is trial 8 with value: 0.761455108359133.\n",
      "[I 2024-07-24 23:08:10,306] Trial 10 finished with value: 0.761455108359133 and parameters: {'n_estimators': 200, 'learning_rate': 0.01, 'max_depth': 3, 'max_features': 'sqrt', 'min_samples_leaf': 2}. Best is trial 8 with value: 0.761455108359133.\n",
      "[I 2024-07-24 23:10:57,044] Trial 11 finished with value: 0.761455108359133 and parameters: {'n_estimators': 200, 'learning_rate': 0.01, 'max_depth': 3, 'max_features': 'sqrt', 'min_samples_leaf': 2}. Best is trial 8 with value: 0.761455108359133.\n",
      "[I 2024-07-24 23:13:43,776] Trial 12 finished with value: 0.761455108359133 and parameters: {'n_estimators': 200, 'learning_rate': 0.01, 'max_depth': 3, 'max_features': 'sqrt', 'min_samples_leaf': 2}. Best is trial 8 with value: 0.761455108359133.\n",
      "[I 2024-07-24 23:16:30,441] Trial 13 finished with value: 0.7614551083591331 and parameters: {'n_estimators': 200, 'learning_rate': 0.01, 'max_depth': 3, 'max_features': 'sqrt', 'min_samples_leaf': 3}. Best is trial 13 with value: 0.7614551083591331.\n",
      "[I 2024-07-24 23:19:17,505] Trial 14 finished with value: 0.7481114551083592 and parameters: {'n_estimators': 200, 'learning_rate': 0.1, 'max_depth': 3, 'max_features': 'sqrt', 'min_samples_leaf': 3}. Best is trial 13 with value: 0.7614551083591331.\n",
      "[I 2024-07-24 23:23:25,357] Trial 15 finished with value: 0.7679256965944272 and parameters: {'n_estimators': 200, 'learning_rate': 0.01, 'max_depth': 5, 'max_features': 'sqrt', 'min_samples_leaf': 3}. Best is trial 15 with value: 0.7679256965944272.\n",
      "[I 2024-07-24 23:25:28,066] Trial 16 finished with value: 0.7296284829721362 and parameters: {'n_estimators': 100, 'learning_rate': 0.01, 'max_depth': 5, 'max_features': 'sqrt', 'min_samples_leaf': 3}. Best is trial 15 with value: 0.7679256965944272.\n",
      "[I 2024-07-24 23:29:37,674] Trial 17 finished with value: 0.7679256965944272 and parameters: {'n_estimators': 200, 'learning_rate': 0.01, 'max_depth': 5, 'max_features': 'sqrt', 'min_samples_leaf': 3}. Best is trial 15 with value: 0.7679256965944272.\n",
      "[I 2024-07-24 23:33:49,069] Trial 18 finished with value: 0.7227554179566564 and parameters: {'n_estimators': 200, 'learning_rate': 0.2, 'max_depth': 5, 'max_features': 'sqrt', 'min_samples_leaf': 3}. Best is trial 15 with value: 0.7679256965944272.\n",
      "[I 2024-07-24 23:35:53,616] Trial 19 finished with value: 0.7391950464396284 and parameters: {'n_estimators': 100, 'learning_rate': 0.1, 'max_depth': 5, 'max_features': 'sqrt', 'min_samples_leaf': 3}. Best is trial 15 with value: 0.7679256965944272.\n"
     ]
    },
    {
     "name": "stdout",
     "output_type": "stream",
     "text": [
      "CPU times: user 17 s, sys: 7.21 s, total: 24.2 s\n",
      "Wall time: 58min 32s\n"
     ]
    }
   ],
   "source": [
    "%%time\n",
    "#begin hyperparameters selection\n",
    "#create review object\n",
    "study_optuna = optuna.create_study(study_name='GradientBoostingClassifier',\n",
    "                                   direction='maximize')\n",
    "\n",
    "#search for the best combination\n",
    "study_optuna.optimize(optuna_gb, n_trials=20)"
   ]
  },
  {
   "cell_type": "code",
   "execution_count": 31,
   "id": "42352acb",
   "metadata": {
    "execution": {
     "iopub.execute_input": "2024-07-24T23:35:53.703553Z",
     "iopub.status.busy": "2024-07-24T23:35:53.703092Z",
     "iopub.status.idle": "2024-07-24T23:35:53.709911Z",
     "shell.execute_reply": "2024-07-24T23:35:53.708852Z"
    },
    "papermill": {
     "duration": 0.037604,
     "end_time": "2024-07-24T23:35:53.713022",
     "exception": false,
     "start_time": "2024-07-24T23:35:53.675418",
     "status": "completed"
    },
    "tags": []
   },
   "outputs": [
    {
     "name": "stdout",
     "output_type": "stream",
     "text": [
      "train data:\n",
      "f1 score: 0.768\n",
      "hyperparameters for gradient boosting with optuna {'n_estimators': 200, 'learning_rate': 0.01, 'max_depth': 5, 'max_features': 'sqrt', 'min_samples_leaf': 3}\n"
     ]
    }
   ],
   "source": [
    "#display results for train data\n",
    "print('train data:')\n",
    "print(f'f1 score: {study_optuna.best_value:.3f}')\n",
    "print(f'hyperparameters for gradient boosting with optuna {study_optuna.best_params}')"
   ]
  },
  {
   "cell_type": "code",
   "execution_count": 32,
   "id": "eed99953",
   "metadata": {
    "execution": {
     "iopub.execute_input": "2024-07-24T23:35:53.768815Z",
     "iopub.status.busy": "2024-07-24T23:35:53.767342Z",
     "iopub.status.idle": "2024-07-24T23:35:53.773933Z",
     "shell.execute_reply": "2024-07-24T23:35:53.772707Z"
    },
    "papermill": {
     "duration": 0.037845,
     "end_time": "2024-07-24T23:35:53.777552",
     "exception": false,
     "start_time": "2024-07-24T23:35:53.739707",
     "status": "completed"
    },
    "tags": []
   },
   "outputs": [],
   "source": [
    "#find the metrics for test data\n",
    "model_opt_gb = ensemble.GradientBoostingClassifier(**study_optuna.best_params,\n",
    "                                                   random_state=42,\n",
    "                                                   )"
   ]
  },
  {
   "cell_type": "code",
   "execution_count": 33,
   "id": "b7bf8619",
   "metadata": {
    "execution": {
     "iopub.execute_input": "2024-07-24T23:35:53.832632Z",
     "iopub.status.busy": "2024-07-24T23:35:53.832185Z",
     "iopub.status.idle": "2024-07-24T23:37:50.126095Z",
     "shell.execute_reply": "2024-07-24T23:37:50.124707Z"
    },
    "papermill": {
     "duration": 116.325079,
     "end_time": "2024-07-24T23:37:50.129338",
     "exception": false,
     "start_time": "2024-07-24T23:35:53.804259",
     "status": "completed"
    },
    "tags": []
   },
   "outputs": [],
   "source": [
    "#model learning\n",
    "model_opt_gb.fit(X_train_scaled, y_train)\n",
    "\n",
    "#make a prediction\n",
    "y_train_pred_gb = model_opt_gb.predict(X_train_scaled)"
   ]
  },
  {
   "cell_type": "code",
   "execution_count": 34,
   "id": "c8e4e013",
   "metadata": {
    "execution": {
     "iopub.execute_input": "2024-07-24T23:37:50.183394Z",
     "iopub.status.busy": "2024-07-24T23:37:50.182956Z",
     "iopub.status.idle": "2024-07-24T23:37:51.040134Z",
     "shell.execute_reply": "2024-07-24T23:37:51.038764Z"
    },
    "papermill": {
     "duration": 0.886994,
     "end_time": "2024-07-24T23:37:51.042786",
     "exception": false,
     "start_time": "2024-07-24T23:37:50.155792",
     "status": "completed"
    },
    "tags": []
   },
   "outputs": [
    {
     "name": "stdout",
     "output_type": "stream",
     "text": [
      "train data:\n",
      "f1_score: 0.853\n",
      "accuracy: 0.853\n"
     ]
    }
   ],
   "source": [
    "#display the metrics\n",
    "print('train data:')\n",
    "print(f'f1_score: {metrics.f1_score(y_train, y_train_pred_gb, average=\"micro\"):.3f}')\n",
    "print(f'accuracy: {model_opt_gb.score(X_train_scaled, y_train):.3f}')"
   ]
  },
  {
   "cell_type": "markdown",
   "id": "02ce0950",
   "metadata": {
    "papermill": {
     "duration": 0.025606,
     "end_time": "2024-07-24T23:37:51.094530",
     "exception": false,
     "start_time": "2024-07-24T23:37:51.068924",
     "status": "completed"
    },
    "tags": []
   },
   "source": [
    "#### Prediction Submission"
   ]
  },
  {
   "cell_type": "code",
   "execution_count": 35,
   "id": "c9c2e1f8",
   "metadata": {
    "execution": {
     "iopub.execute_input": "2024-07-24T23:37:51.148167Z",
     "iopub.status.busy": "2024-07-24T23:37:51.147763Z",
     "iopub.status.idle": "2024-07-24T23:37:51.241193Z",
     "shell.execute_reply": "2024-07-24T23:37:51.240077Z"
    },
    "papermill": {
     "duration": 0.123584,
     "end_time": "2024-07-24T23:37:51.244025",
     "exception": false,
     "start_time": "2024-07-24T23:37:51.120441",
     "status": "completed"
    },
    "tags": []
   },
   "outputs": [],
   "source": [
    "#make a prediction\n",
    "predict_submission = model_opt_rf.predict(X_test_scaled)"
   ]
  },
  {
   "cell_type": "code",
   "execution_count": 36,
   "id": "46583de0",
   "metadata": {
    "execution": {
     "iopub.execute_input": "2024-07-24T23:37:51.301350Z",
     "iopub.status.busy": "2024-07-24T23:37:51.300918Z",
     "iopub.status.idle": "2024-07-24T23:37:51.307331Z",
     "shell.execute_reply": "2024-07-24T23:37:51.306134Z"
    },
    "papermill": {
     "duration": 0.037868,
     "end_time": "2024-07-24T23:37:51.309887",
     "exception": false,
     "start_time": "2024-07-24T23:37:51.272019",
     "status": "completed"
    },
    "tags": []
   },
   "outputs": [],
   "source": [
    "#set submission to predictive set\n",
    "sample_submission['class'] = predict_submission"
   ]
  },
  {
   "cell_type": "code",
   "execution_count": 37,
   "id": "2aa41009",
   "metadata": {
    "execution": {
     "iopub.execute_input": "2024-07-24T23:37:51.366026Z",
     "iopub.status.busy": "2024-07-24T23:37:51.365623Z",
     "iopub.status.idle": "2024-07-24T23:37:51.382364Z",
     "shell.execute_reply": "2024-07-24T23:37:51.381225Z"
    },
    "papermill": {
     "duration": 0.048154,
     "end_time": "2024-07-24T23:37:51.385154",
     "exception": false,
     "start_time": "2024-07-24T23:37:51.337000",
     "status": "completed"
    },
    "tags": []
   },
   "outputs": [],
   "source": [
    "#save the predictive results\n",
    "sample_submission.to_csv('competition_submission.csv', index=False)"
   ]
  },
  {
   "cell_type": "code",
   "execution_count": 38,
   "id": "31eb0803",
   "metadata": {
    "execution": {
     "iopub.execute_input": "2024-07-24T23:37:51.439756Z",
     "iopub.status.busy": "2024-07-24T23:37:51.439310Z",
     "iopub.status.idle": "2024-07-24T23:37:51.451707Z",
     "shell.execute_reply": "2024-07-24T23:37:51.450582Z"
    },
    "papermill": {
     "duration": 0.042451,
     "end_time": "2024-07-24T23:37:51.454245",
     "exception": false,
     "start_time": "2024-07-24T23:37:51.411794",
     "status": "completed"
    },
    "tags": []
   },
   "outputs": [
    {
     "data": {
      "text/html": [
       "<div>\n",
       "<style scoped>\n",
       "    .dataframe tbody tr th:only-of-type {\n",
       "        vertical-align: middle;\n",
       "    }\n",
       "\n",
       "    .dataframe tbody tr th {\n",
       "        vertical-align: top;\n",
       "    }\n",
       "\n",
       "    .dataframe thead th {\n",
       "        text-align: right;\n",
       "    }\n",
       "</style>\n",
       "<table border=\"1\" class=\"dataframe\">\n",
       "  <thead>\n",
       "    <tr style=\"text-align: right;\">\n",
       "      <th></th>\n",
       "      <th>sample-timestep</th>\n",
       "      <th>class</th>\n",
       "    </tr>\n",
       "  </thead>\n",
       "  <tbody>\n",
       "    <tr>\n",
       "      <th>0</th>\n",
       "      <td>323-0</td>\n",
       "      <td>4</td>\n",
       "    </tr>\n",
       "    <tr>\n",
       "      <th>1</th>\n",
       "      <td>323-1</td>\n",
       "      <td>4</td>\n",
       "    </tr>\n",
       "    <tr>\n",
       "      <th>2</th>\n",
       "      <td>323-2</td>\n",
       "      <td>4</td>\n",
       "    </tr>\n",
       "    <tr>\n",
       "      <th>3</th>\n",
       "      <td>323-3</td>\n",
       "      <td>4</td>\n",
       "    </tr>\n",
       "    <tr>\n",
       "      <th>4</th>\n",
       "      <td>323-4</td>\n",
       "      <td>4</td>\n",
       "    </tr>\n",
       "    <tr>\n",
       "      <th>5</th>\n",
       "      <td>323-5</td>\n",
       "      <td>4</td>\n",
       "    </tr>\n",
       "    <tr>\n",
       "      <th>6</th>\n",
       "      <td>323-6</td>\n",
       "      <td>4</td>\n",
       "    </tr>\n",
       "    <tr>\n",
       "      <th>7</th>\n",
       "      <td>323-7</td>\n",
       "      <td>4</td>\n",
       "    </tr>\n",
       "    <tr>\n",
       "      <th>8</th>\n",
       "      <td>323-8</td>\n",
       "      <td>4</td>\n",
       "    </tr>\n",
       "    <tr>\n",
       "      <th>9</th>\n",
       "      <td>323-9</td>\n",
       "      <td>4</td>\n",
       "    </tr>\n",
       "  </tbody>\n",
       "</table>\n",
       "</div>"
      ],
      "text/plain": [
       "  sample-timestep  class\n",
       "0           323-0      4\n",
       "1           323-1      4\n",
       "2           323-2      4\n",
       "3           323-3      4\n",
       "4           323-4      4\n",
       "5           323-5      4\n",
       "6           323-6      4\n",
       "7           323-7      4\n",
       "8           323-8      4\n",
       "9           323-9      4"
      ]
     },
     "execution_count": 38,
     "metadata": {},
     "output_type": "execute_result"
    }
   ],
   "source": [
    "sample_submission.head(10)"
   ]
  }
 ],
 "metadata": {
  "kaggle": {
   "accelerator": "none",
   "dataSources": [
    {
     "databundleVersionId": 8901107,
     "sourceId": 81920,
     "sourceType": "competition"
    }
   ],
   "dockerImageVersionId": 30746,
   "isGpuEnabled": false,
   "isInternetEnabled": true,
   "language": "python",
   "sourceType": "notebook"
  },
  "kernelspec": {
   "display_name": "Python 3",
   "language": "python",
   "name": "python3"
  },
  "language_info": {
   "codemirror_mode": {
    "name": "ipython",
    "version": 3
   },
   "file_extension": ".py",
   "mimetype": "text/x-python",
   "name": "python",
   "nbconvert_exporter": "python",
   "pygments_lexer": "ipython3",
   "version": "3.10.13"
  },
  "papermill": {
   "default_parameters": {},
   "duration": 4864.02946,
   "end_time": "2024-07-24T23:37:54.117504",
   "environment_variables": {},
   "exception": null,
   "input_path": "__notebook__.ipynb",
   "output_path": "__notebook__.ipynb",
   "parameters": {},
   "start_time": "2024-07-24T22:16:50.088044",
   "version": "2.5.0"
  }
 },
 "nbformat": 4,
 "nbformat_minor": 5
}
